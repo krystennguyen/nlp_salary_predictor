{
 "cells": [
  {
   "cell_type": "code",
   "execution_count": 1,
   "id": "fbe7a342",
   "metadata": {},
   "outputs": [],
   "source": [
    "import pandas as pd\n",
    "\n",
    "all_postings = pd.read_csv('processed_description.csv')\n"
   ]
  },
  {
   "cell_type": "markdown",
   "id": "15836815",
   "metadata": {},
   "source": [
    "### Split validation, training and test set"
   ]
  },
  {
   "cell_type": "code",
   "execution_count": 2,
   "id": "04398161",
   "metadata": {},
   "outputs": [],
   "source": [
    "# define target class and input text\n",
    "target = all_postings['salary_bin'].astype('category')\n",
    "text = all_postings['processed_description']"
   ]
  },
  {
   "cell_type": "code",
   "execution_count": 3,
   "id": "78063132",
   "metadata": {},
   "outputs": [],
   "source": [
    "from sklearn.model_selection import train_test_split\n",
    "from sklearn.feature_extraction.text import TfidfVectorizer\n",
    "# split data into 70% training, 10% validation and 20% testing set\n",
    "tfidf = TfidfVectorizer().fit(text)\n",
    "X_tfidf =  tfidf.transform(text)\n",
    "X_train, X_test, y_train, y_test = train_test_split(X_tfidf, target, test_size=0.2)\n",
    "X_train, X_val, y_train, y_val = train_test_split(X_train, y_train, test_size=0.125)\n"
   ]
  },
  {
   "cell_type": "markdown",
   "id": "e9e9c9e8",
   "metadata": {},
   "source": [
    "### TF-IDF Vectorization"
   ]
  },
  {
   "cell_type": "code",
   "execution_count": 4,
   "id": "ccd8369b",
   "metadata": {},
   "outputs": [
    {
     "name": "stdout",
     "output_type": "stream",
     "text": [
      "{1: '50k-100k', 0: '0-50k', 3: '150k+', 2: '100k-150k'}\n"
     ]
    }
   ],
   "source": [
    "# map salary bin to range\n",
    "salary_info = {all_postings.salary_bin.unique()[i]: all_postings.salary_range.unique()[i] for i in range(len(all_postings.salary_bin.unique()))}\n",
    "print(salary_info)"
   ]
  },
  {
   "cell_type": "markdown",
   "id": "281937a4",
   "metadata": {},
   "source": [
    "## ML Models \n",
    "### Logistic Regression"
   ]
  },
  {
   "cell_type": "code",
   "execution_count": 9,
   "id": "3f67aea6",
   "metadata": {},
   "outputs": [
    {
     "name": "stdout",
     "output_type": "stream",
     "text": [
      "Logistic Regression F1 Score: 0.7019577414635976\n",
      "Logistic Regression AUC Score: 0.8838291292022542\n"
     ]
    }
   ],
   "source": [
    "from sklearn.linear_model import LogisticRegression\n",
    "from sklearn.metrics import accuracy_score, precision_recall_curve, roc_auc_score, f1_score\n",
    "import numpy as np\n",
    "\n",
    "\n",
    "# tune the hyperparameter C using the validation set\n",
    "C_values = [0.01, 0.1, 1, 10, 100]\n",
    "val_accuracy = []\n",
    "for C in C_values:\n",
    "    logistic_regression = LogisticRegression(C=C, max_iter=1000, penalty='l2',multi_class='ovr')\n",
    "    logistic_regression.fit(X_val, y_val)\n",
    "    \n",
    "    y_val_pred = logistic_regression.predict(X_val)\n",
    "    val_accuracy.append(accuracy_score(y_val, y_val_pred))\n",
    "\n",
    "best_C = C_values[np.argmax(val_accuracy)]\n",
    "\n",
    "# fit the model on the training set using the best C\n",
    "logistic_regression = LogisticRegression(C=C, max_iter=1000, penalty='l2',  multi_class='ovr')\n",
    "logistic_regression.fit(X_train, y_train)\n",
    "\n",
    "\n",
    "# evaluate the model on the test set\n",
    "y_test_pred = logistic_regression.predict(X_test)\n",
    "y_test_pred_proba = logistic_regression.predict_proba(X_test)\n",
    "\n",
    "\n",
    "logreg_f1 = f1_score(y_test, y_test_pred, average='weighted')\n",
    "logreg_auc = roc_auc_score(y_test, y_test_pred_proba, average='weighted', multi_class='ovr')\n",
    "\n",
    "print(f'Logistic Regression F1 Score: {logreg_f1}')\n",
    "print(f'Logistic Regression AUC Score: {logreg_auc}')\n",
    "\n"
   ]
  },
  {
   "cell_type": "markdown",
   "id": "10cd012c",
   "metadata": {},
   "source": []
  },
  {
   "cell_type": "markdown",
   "id": "5b6875d2",
   "metadata": {},
   "source": [
    "### SVM"
   ]
  },
  {
   "cell_type": "code",
   "execution_count": 10,
   "id": "f4eaba1f",
   "metadata": {},
   "outputs": [
    {
     "name": "stderr",
     "output_type": "stream",
     "text": [
      "/Users/krysten/anaconda3/lib/python3.11/site-packages/sklearn/svm/_classes.py:32: FutureWarning: The default value of `dual` will change from `True` to `'auto'` in 1.5. Set the value of `dual` explicitly to suppress the warning.\n",
      "  warnings.warn(\n",
      "/Users/krysten/anaconda3/lib/python3.11/site-packages/sklearn/svm/_classes.py:32: FutureWarning: The default value of `dual` will change from `True` to `'auto'` in 1.5. Set the value of `dual` explicitly to suppress the warning.\n",
      "  warnings.warn(\n",
      "/Users/krysten/anaconda3/lib/python3.11/site-packages/sklearn/svm/_classes.py:32: FutureWarning: The default value of `dual` will change from `True` to `'auto'` in 1.5. Set the value of `dual` explicitly to suppress the warning.\n",
      "  warnings.warn(\n",
      "/Users/krysten/anaconda3/lib/python3.11/site-packages/sklearn/svm/_classes.py:32: FutureWarning: The default value of `dual` will change from `True` to `'auto'` in 1.5. Set the value of `dual` explicitly to suppress the warning.\n",
      "  warnings.warn(\n",
      "/Users/krysten/anaconda3/lib/python3.11/site-packages/sklearn/svm/_classes.py:32: FutureWarning: The default value of `dual` will change from `True` to `'auto'` in 1.5. Set the value of `dual` explicitly to suppress the warning.\n",
      "  warnings.warn(\n",
      "/Users/krysten/anaconda3/lib/python3.11/site-packages/sklearn/svm/_classes.py:32: FutureWarning: The default value of `dual` will change from `True` to `'auto'` in 1.5. Set the value of `dual` explicitly to suppress the warning.\n",
      "  warnings.warn(\n"
     ]
    },
    {
     "name": "stdout",
     "output_type": "stream",
     "text": [
      "Linear SVC F1 Score: 0.6939897027705659\n",
      "Linear SVC AUC Score: 0.8838291292022542\n"
     ]
    }
   ],
   "source": [
    "from sklearn.svm import LinearSVC\n",
    "from sklearn.metrics import f1_score, roc_auc_score\n",
    "\n",
    "class_weight = dict(all_postings['salary_bin'].value_counts(normalize=True))\n",
    "# tune the hyperparameter C using the validation set\n",
    "C_values = [0.01, 0.1, 1, 10, 100]\n",
    "val_accuracy = []\n",
    "for C in C_values:\n",
    "    svm = LinearSVC(C=C, max_iter=10000, class_weight=class_weight, multi_class='ovr')\n",
    "    svm.fit(X_val, y_val)\n",
    "    \n",
    "    y_val_pred = svm.predict(X_val)\n",
    "    val_accuracy.append(accuracy_score(y_val, y_val_pred))\n",
    "\n",
    "best_C = C_values[np.argmax(val_accuracy)]\n",
    "\n",
    "# fit the model on the training set using the best C\n",
    "svm = LinearSVC(C=best_C, max_iter=10000, class_weight=class_weight)\n",
    "svm.fit(X_train, y_train)\n",
    "\n",
    "# evaluate the model on the test set\n",
    "y_test_pred = svm.predict(X_test)\n",
    "\n",
    "\n",
    "svm_f1 = f1_score(y_test, y_test_pred, average='weighted')\n",
    "svm_auc = roc_auc_score(y_test, y_test_pred_proba, average='weighted', multi_class='ovr')\n",
    "print(f'Linear SVC F1 Score: {svm_f1}')\n",
    "print(f'Linear SVC AUC Score: {svm_auc}')\n",
    "\n"
   ]
  },
  {
   "cell_type": "markdown",
   "id": "867d4c4c",
   "metadata": {},
   "source": [
    "### Random Forest"
   ]
  },
  {
   "cell_type": "code",
   "execution_count": 6,
   "id": "cce095b1",
   "metadata": {},
   "outputs": [
    {
     "name": "stdout",
     "output_type": "stream",
     "text": [
      "Accuracy:  0.6333333333333333\n",
      "F1 Score:  0.6128135289724997\n",
      "AUC Score:  0.8876954041432455\n"
     ]
    }
   ],
   "source": [
    "from sklearn.ensemble import RandomForestClassifier\n",
    "from sklearn.metrics import accuracy_score, f1_score, roc_auc_score\n",
    "clf = RandomForestClassifier(n_estimators=1000, max_depth=50, bootstrap=True)\n",
    "clf.fit(X_train, y_train)\n",
    "\n",
    "y_pred = clf.predict(X_test)\n",
    "print('Accuracy: ', accuracy_score(y_test, y_pred))\n",
    "print('F1 Score: ', f1_score(y_test, y_pred, average='weighted'))\n",
    "print('AUC Score: ', roc_auc_score(y_test, clf.predict_proba(X_test), average='weighted', multi_class='ovr'))\n",
    "\n",
    "\n",
    "\n"
   ]
  },
  {
   "cell_type": "markdown",
   "id": "1f5eda6c",
   "metadata": {},
   "source": [
    "### AdaBoost"
   ]
  },
  {
   "cell_type": "markdown",
   "id": "010e9aa1",
   "metadata": {},
   "source": [
    "### XGBoost\n"
   ]
  },
  {
   "cell_type": "code",
   "execution_count": 8,
   "id": "d35fd225",
   "metadata": {},
   "outputs": [
    {
     "name": "stdout",
     "output_type": "stream",
     "text": [
      "Accuracy:  0.753558052434457\n",
      "F1 Score:  0.7517011744654779\n",
      "AUC Score:  0.9175324994001782\n"
     ]
    }
   ],
   "source": [
    "\n",
    "from xgboost import XGBClassifier\n",
    "from sklearn.metrics import accuracy_score, f1_score, roc_auc_score\n",
    "\n",
    "xgb = XGBClassifier(n_estimators=1000, learning_rate=0.1)\n",
    "xgb.fit(X_train, y_train)\n",
    "xgb.score(X_test, y_test)\n",
    "y_pred = xgb.predict(X_test)\n",
    "y_pred_proba = xgb.predict_proba(X_test)\n",
    "print('Accuracy: ', accuracy_score(y_test, y_pred))\n",
    "print('F1 Score: ', f1_score(y_test, y_pred, average='weighted'))\n",
    "print('AUC Score: ', roc_auc_score(y_test, y_pred_proba, average='weighted', multi_class='ovr'))\n"
   ]
  },
  {
   "cell_type": "code",
   "execution_count": null,
   "id": "c21c377c",
   "metadata": {},
   "outputs": [],
   "source": []
  }
 ],
 "metadata": {
  "kernelspec": {
   "display_name": "Python 3 (ipykernel)",
   "language": "python",
   "name": "python3"
  },
  "language_info": {
   "codemirror_mode": {
    "name": "ipython",
    "version": 3
   },
   "file_extension": ".py",
   "mimetype": "text/x-python",
   "name": "python",
   "nbconvert_exporter": "python",
   "pygments_lexer": "ipython3",
   "version": "3.11.5"
  }
 },
 "nbformat": 4,
 "nbformat_minor": 5
}
