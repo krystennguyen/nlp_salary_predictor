{
 "cells": [
  {
   "cell_type": "code",
   "execution_count": 62,
   "metadata": {},
   "outputs": [
    {
     "name": "stdout",
     "output_type": "stream",
     "text": [
      "Index(['job_id', 'company_id', 'title', 'description', 'max_salary',\n",
      "       'med_salary', 'min_salary', 'pay_period', 'formatted_work_type',\n",
      "       'location', 'applies', 'original_listed_time', 'remote_allowed',\n",
      "       'views', 'job_posting_url', 'application_url', 'application_type',\n",
      "       'expiry', 'closed_time', 'formatted_experience_level', 'skills_desc',\n",
      "       'listed_time', 'posting_domain', 'sponsored', 'work_type', 'currency',\n",
      "       'compensation_type', 'scraped'],\n",
      "      dtype='object')\n"
     ]
    }
   ],
   "source": [
    "import pandas as pd\n",
    "\n",
    "all_postings = pd.read_csv('job_postings_unprocessed.csv')\n",
    "\n",
    "# remove NaN in pay_period\n",
    "all_postings = all_postings.dropna(subset=['pay_period'])\n",
    "print(all_postings.columns)\n"
   ]
  },
  {
   "cell_type": "code",
   "execution_count": 63,
   "metadata": {},
   "outputs": [
    {
     "name": "stdout",
     "output_type": "stream",
     "text": [
      "                                          description  max_salary  med_salary  \\\n",
      "0   Overview\\n\\nHearingLife is a national hearing ...         NaN     5250.00   \n",
      "3   descriptionTitle\\n\\n Looking for a great oppor...         NaN       22.27   \n",
      "4   Job Summary\\nAt iHerb, we are on a mission to ...    275834.0         NaN   \n",
      "8   descriptionTitle\\n\\n $2,000 Sign-on Bonus Guar...         NaN       19.30   \n",
      "11  Who We Are\\n\\nEscalent is an award-winning dat...     64000.0         NaN   \n",
      "\n",
      "    min_salary pay_period  \n",
      "0          NaN    MONTHLY  \n",
      "3          NaN     HOURLY  \n",
      "4     205956.0     YEARLY  \n",
      "8          NaN     HOURLY  \n",
      "11     58000.0     YEARLY  \n"
     ]
    }
   ],
   "source": [
    "postings_salary = all_postings.loc[:, ['description', 'max_salary', 'med_salary', 'min_salary', 'pay_period']]\n",
    "  \n",
    "print(postings_salary.head())\n",
    "# drop rows where max_salary, med_salary, and min_salary are all NaN\n",
    "postings_salary = postings_salary.dropna(subset=['max_salary', 'med_salary', 'min_salary'], how='all')\n"
   ]
  },
  {
   "cell_type": "code",
   "execution_count": 64,
   "metadata": {},
   "outputs": [],
   "source": [
    "\n",
    "# average max and min salary to med_salary if med_salary is NaN and max_salary and min_salary are not NaN\n",
    "postings_salary['med_salary'] = postings_salary['med_salary'].fillna((postings_salary['max_salary'] + postings_salary['min_salary']) / 2)\n",
    "\n",
    "# drop where med_salary is 0\n",
    "postings_salary = postings_salary[postings_salary['med_salary'] != 0]\n",
    "\n"
   ]
  },
  {
   "cell_type": "code",
   "execution_count": 65,
   "metadata": {},
   "outputs": [
    {
     "data": {
      "text/plain": [
       "array(['MONTHLY', 'HOURLY', 'YEARLY', 'WEEKLY', 'ONCE'], dtype=object)"
      ]
     },
     "execution_count": 65,
     "metadata": {},
     "output_type": "execute_result"
    }
   ],
   "source": [
    "postings_salary['pay_period'].unique()"
   ]
  },
  {
   "cell_type": "code",
   "execution_count": 71,
   "metadata": {},
   "outputs": [],
   "source": [
    "# using med_salary and pay_period to average annual salary\n",
    "def get_annual_salary(row):\n",
    "    # assume 40 hours per week \n",
    "    if row['pay_period'] == 'HOURLY':\n",
    "        return row['med_salary'] * 40 * 52\n",
    "    elif row['pay_period'] == 'WEEKLY':\n",
    "        return row['med_salary'] * 52\n",
    "    elif row['pay_period'] == 'MONTHLY':\n",
    "        return row['med_salary'] * 12\n",
    "    elif row['pay_period'] == 'YEARLY':\n",
    "        return row['med_salary']\n",
    "    elif row['pay_period'] == 'ONCE':\n",
    "        return row['med_salary']\n",
    "    \n",
    "\n",
    "postings_salary['annual_salary'] = postings_salary.apply(get_annual_salary, axis=1)\n",
    "\n",
    "\n"
   ]
  },
  {
   "cell_type": "code",
   "execution_count": 75,
   "metadata": {},
   "outputs": [
    {
     "name": "stdout",
     "output_type": "stream",
     "text": [
      "count    1.335000e+04\n",
      "mean     1.425794e+05\n",
      "std      3.416309e+06\n",
      "min      1.350000e+01\n",
      "25%      5.200000e+04\n",
      "50%      8.250000e+04\n",
      "75%      1.238000e+05\n",
      "max      3.432000e+08\n",
      "Name: annual_salary, dtype: float64\n"
     ]
    }
   ],
   "source": [
    "# describe the annual salary data\n",
    "print(postings_salary['annual_salary'].describe())\n"
   ]
  },
  {
   "cell_type": "code",
   "execution_count": 74,
   "metadata": {},
   "outputs": [
    {
     "data": {
      "image/png": "[encoded data removed]",
      "text/plain": [
       "<Figure size 640x480 with 1 Axes>"
      ]
     },
     "metadata": {},
     "output_type": "display_data"
    }
   ],
   "source": [
    "# historgram of annual salary\n",
    "import matplotlib.pyplot as plt\n",
    "plt.hist(postings_salary['annual_salary'], bins=100, range=(0, 350000))\n",
    "plt.xlabel('Annual Salary')\n",
    "plt.ylabel('Frequency')\n",
    "plt.title('Histogram of Annual Salary')\n",
    "plt.show()"
   ]
  },
  {
   "cell_type": "code",
   "execution_count": null,
   "metadata": {},
   "outputs": [],
   "source": [
    "# categorize salary into ranges\n",
    "def categorize_salary(salary):\n",
    "    if salary < 50000:\n",
    "        return '0-50k'\n",
    "    elif salary < 100000:\n",
    "        return '50k-100k'\n",
    "    elif salary < 150000:\n",
    "        return '100k-150k'\n",
    "    elif salary < 200000:\n",
    "        return '150k-200k'\n",
    "    elif salary < 250000:\n",
    "        return '200k-250k'\n",
    "    elif salary < 300000:\n",
    "        return '250k-300k'\n",
    "    else:\n",
    "        return '300k+'\n",
    "\n"
   ]
  }
 ],
 "metadata": {
  "kernelspec": {
   "display_name": "base",
   "language": "python",
   "name": "python3"
  },
  "language_info": {
   "codemirror_mode": {
    "name": "ipython",
    "version": 3
   },
   "file_extension": ".py",
   "mimetype": "text/x-python",
   "name": "python",
   "nbconvert_exporter": "python",
   "pygments_lexer": "ipython3",
   "version": "3.11.5"
  }
 },
 "nbformat": 4,
 "nbformat_minor": 2
}
