{
 "cells": [
  {
   "cell_type": "code",
   "execution_count": 1,
   "metadata": {},
   "outputs": [
    {
     "name": "stdout",
     "output_type": "stream",
     "text": [
      "(33246, 28)\n",
      "Index(['job_id', 'company_id', 'title', 'description', 'max_salary',\n",
      "       'med_salary', 'min_salary', 'pay_period', 'formatted_work_type',\n",
      "       'location', 'applies', 'original_listed_time', 'remote_allowed',\n",
      "       'views', 'job_posting_url', 'application_url', 'application_type',\n",
      "       'expiry', 'closed_time', 'formatted_experience_level', 'skills_desc',\n",
      "       'listed_time', 'posting_domain', 'sponsored', 'work_type', 'currency',\n",
      "       'compensation_type', 'scraped'],\n",
      "      dtype='object')\n",
      "(13352, 28)\n"
     ]
    }
   ],
   "source": [
    "import pandas as pd\n",
    "\n",
    "all_postings = pd.read_csv('job_postings_unprocessed.csv')\n",
    "\n",
    "print(all_postings.shape)\n",
    "# remove NaN in pay_period\n",
    "all_postings = all_postings.dropna(subset=['pay_period'])\n",
    "print(all_postings.columns)\n",
    "print(all_postings.shape)\n"
   ]
  },
  {
   "cell_type": "markdown",
   "metadata": {},
   "source": [
    "Only 13352 out of 33246 rows in this dataset include salary information in 'pay_period' column"
   ]
  },
  {
   "cell_type": "code",
   "execution_count": 3,
   "metadata": {},
   "outputs": [
    {
     "name": "stdout",
     "output_type": "stream",
     "text": [
      "                                          title  \\\n",
      "0                         Hearing Care Provider   \n",
      "3                                          Cook   \n",
      "4   Principal Cloud Security Architect (Remote)   \n",
      "8                                    Dishwasher   \n",
      "11             Insights Analyst - Auto Industry   \n",
      "\n",
      "                                          description  max_salary  med_salary  \\\n",
      "0   Overview\\n\\nHearingLife is a national hearing ...         NaN     5250.00   \n",
      "3   descriptionTitle\\n\\n Looking for a great oppor...         NaN       22.27   \n",
      "4   Job Summary\\nAt iHerb, we are on a mission to ...    275834.0         NaN   \n",
      "8   descriptionTitle\\n\\n $2,000 Sign-on Bonus Guar...         NaN       19.30   \n",
      "11  Who We Are\\n\\nEscalent is an award-winning dat...     64000.0         NaN   \n",
      "\n",
      "    min_salary pay_period  \n",
      "0          NaN    MONTHLY  \n",
      "3          NaN     HOURLY  \n",
      "4     205956.0     YEARLY  \n",
      "8          NaN     HOURLY  \n",
      "11     58000.0     YEARLY  \n"
     ]
    }
   ],
   "source": [
    "postings_salary = all_postings.loc[:, ['title','description', 'max_salary', 'med_salary', 'min_salary', 'pay_period']]\n",
    "  \n",
    "print(postings_salary.head())\n",
    "# drop rows where max_salary, med_salary, and min_salary are all NaN\n",
    "postings_salary = postings_salary.dropna(subset=['max_salary', 'med_salary', 'min_salary'], how='all')\n"
   ]
  },
  {
   "cell_type": "code",
   "execution_count": 4,
   "metadata": {},
   "outputs": [],
   "source": [
    "# combine title and description into one column \"combined_text\"\n",
    "postings_salary['combined_text'] = postings_salary['title'] + ' ' + postings_salary['description']"
   ]
  },
  {
   "cell_type": "markdown",
   "metadata": {},
   "source": [
    "### Calculate annual salary from median salary and pay period information"
   ]
  },
  {
   "cell_type": "code",
   "execution_count": 5,
   "metadata": {},
   "outputs": [],
   "source": [
    "\n",
    "# average max and min salary to med_salary if med_salary is NaN and max_salary and min_salary are not NaN\n",
    "postings_salary['med_salary'] = postings_salary['med_salary'].fillna((postings_salary['max_salary'] + postings_salary['min_salary']) / 2)\n",
    "\n",
    "# drop entry where med_salary is 0\n",
    "postings_salary = postings_salary[postings_salary['med_salary'] != 0]\n",
    "\n"
   ]
  },
  {
   "cell_type": "code",
   "execution_count": 6,
   "metadata": {},
   "outputs": [
    {
     "name": "stdout",
     "output_type": "stream",
     "text": [
      "(13350, 7)\n"
     ]
    }
   ],
   "source": [
    "postings_salary['pay_period'].unique()\n",
    "print(postings_salary.shape)"
   ]
  },
  {
   "cell_type": "markdown",
   "metadata": {},
   "source": [
    "Final processed dataset with full salary information has 13350 entries"
   ]
  },
  {
   "cell_type": "code",
   "execution_count": 7,
   "metadata": {},
   "outputs": [],
   "source": [
    "# using med_salary and pay_period to average annual salary\n",
    "def get_annual_salary(row):\n",
    "    # assume 40 hours per week \n",
    "    if row['pay_period'] == 'HOURLY':\n",
    "        return row['med_salary'] * 40 * 52\n",
    "    elif row['pay_period'] == 'WEEKLY':\n",
    "        return row['med_salary'] * 52\n",
    "    elif row['pay_period'] == 'MONTHLY':\n",
    "        return row['med_salary'] * 12\n",
    "    elif row['pay_period'] == 'YEARLY':\n",
    "        return row['med_salary']\n",
    "    elif row['pay_period'] == 'ONCE':\n",
    "        return row['med_salary']\n",
    "    \n",
    "\n",
    "postings_salary['annual_salary'] = postings_salary.apply(get_annual_salary, axis=1)\n",
    "\n",
    "\n"
   ]
  },
  {
   "cell_type": "code",
   "execution_count": 8,
   "metadata": {},
   "outputs": [
    {
     "name": "stdout",
     "output_type": "stream",
     "text": [
      "count    1.335000e+04\n",
      "mean     1.425794e+05\n",
      "std      3.416309e+06\n",
      "min      1.350000e+01\n",
      "25%      5.200000e+04\n",
      "50%      8.250000e+04\n",
      "75%      1.238000e+05\n",
      "max      3.432000e+08\n",
      "Name: annual_salary, dtype: float64\n"
     ]
    }
   ],
   "source": [
    "# describe the annual salary data\n",
    "print(postings_salary['annual_salary'].describe())\n"
   ]
  },
  {
   "cell_type": "markdown",
   "metadata": {},
   "source": [
    "### Group salary into 4 brackets: 0-50k, 50k-100k, 100k-150k, 150k+"
   ]
  },
  {
   "cell_type": "code",
   "execution_count": null,
   "metadata": {},
   "outputs": [],
   "source": []
  },
  {
   "cell_type": "code",
   "execution_count": null,
   "metadata": {},
   "outputs": [],
   "source": []
  },
  {
   "cell_type": "code",
   "execution_count": 9,
   "metadata": {},
   "outputs": [
    {
     "data": {
      "image/png": "[encoded data removed]",
      "text/plain": [
       "<Figure size 640x480 with 1 Axes>"
      ]
     },
     "metadata": {},
     "output_type": "display_data"
    }
   ],
   "source": [
    "# historgram of annual salary\n",
    "import matplotlib.pyplot as plt\n",
    "plt.hist(postings_salary['annual_salary'], bins=100, range=(0, 350000))\n",
    "plt.xlabel('Annual Salary')\n",
    "plt.ylabel('Frequency')\n",
    "plt.title('Histogram of Annual Salary')\n",
    "plt.show()"
   ]
  },
  {
   "cell_type": "code",
   "execution_count": 10,
   "metadata": {},
   "outputs": [],
   "source": [
    "# categorize salary into ranges\n",
    "def categorize_salary(salary):\n",
    "    if salary < 50000:\n",
    "        return '0-50k'\n",
    "    elif salary < 100000:\n",
    "        return '50k-100k'\n",
    "    elif salary < 150000:\n",
    "        return '100k-150k'\n",
    "    else:\n",
    "        return '150k+'\n",
    "    \n",
    "postings_salary['salary_range'] = postings_salary['annual_salary'].apply(categorize_salary)\n"
   ]
  },
  {
   "cell_type": "code",
   "execution_count": 11,
   "metadata": {},
   "outputs": [],
   "source": [
    "\n",
    "def categorize_salary_bin(salary_range):\n",
    "    if salary_range == '0-50k':\n",
    "        return 0\n",
    "    elif salary_range == '50k-100k':\n",
    "        return 1\n",
    "    elif salary_range == '100k-150k':\n",
    "        return 2\n",
    "    else:\n",
    "        return 3\n",
    "\n",
    "postings_salary['salary_bin'] = postings_salary['salary_range'].apply(categorize_salary_bin)"
   ]
  },
  {
   "cell_type": "code",
   "execution_count": 82,
   "metadata": {},
   "outputs": [
    {
     "data": {
      "image/png": "[encoded data removed]",
      "text/plain": [
       "<Figure size 640x480 with 1 Axes>"
      ]
     },
     "metadata": {},
     "output_type": "display_data"
    }
   ],
   "source": [
    "# print bar plot of each salary range\n",
    "salary_range_counts = postings_salary['salary_range'].value_counts()\n",
    "salary_range_counts.plot(kind='bar')\n",
    "plt.xlabel('Salary Range')\n",
    "plt.ylabel('Frequency')\n",
    "plt.title('Bar plot of Salary Range')\n",
    "plt.show()\n"
   ]
  },
  {
   "cell_type": "code",
   "execution_count": 83,
   "metadata": {},
   "outputs": [
    {
     "name": "stdout",
     "output_type": "stream",
     "text": [
      "                                        combined_text  annual_salary  \\\n",
      "0   Hearing Care Provider Overview\\n\\nHearingLife ...        63000.0   \n",
      "3   Cook descriptionTitle\\n\\n Looking for a great ...        46321.6   \n",
      "4   Principal Cloud Security Architect (Remote) Jo...       240895.0   \n",
      "8   Dishwasher descriptionTitle\\n\\n $2,000 Sign-on...        40144.0   \n",
      "11  Insights Analyst - Auto Industry Who We Are\\n\\...        61000.0   \n",
      "\n",
      "   salary_range  salary_bin  \n",
      "0      50k-100k           1  \n",
      "3         0-50k           0  \n",
      "4         150k+           3  \n",
      "8         0-50k           0  \n",
      "11     50k-100k           1  \n"
     ]
    }
   ],
   "source": [
    "header = ['combined_text', 'annual_salary', 'salary_range', 'salary_bin']\n",
    "postings_salary = postings_salary.loc[:, header]\n",
    "postings_salary.to_csv('job_postings_salary.csv', index=False)\n",
    "print(postings_salary.head())"
   ]
  },
  {
   "cell_type": "markdown",
   "metadata": {},
   "source": []
  },
  {
   "cell_type": "code",
   "execution_count": null,
   "metadata": {},
   "outputs": [],
   "source": []
  },
  {
   "cell_type": "code",
   "execution_count": null,
   "metadata": {},
   "outputs": [],
   "source": []
  }
 ],
 "metadata": {
  "kernelspec": {
   "display_name": "base",
   "language": "python",
   "name": "python3"
  },
  "language_info": {
   "codemirror_mode": {
    "name": "ipython",
    "version": 3
   },
   "file_extension": ".py",
   "mimetype": "text/x-python",
   "name": "python",
   "nbconvert_exporter": "python",
   "pygments_lexer": "ipython3",
   "version": "3.11.5"
  }
 },
 "nbformat": 4,
 "nbformat_minor": 2
}
