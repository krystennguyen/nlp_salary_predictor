{
 "cells": [
  {
   "cell_type": "code",
   "execution_count": 10,
   "metadata": {},
   "outputs": [],
   "source": [
    "import pandas as pd\n",
    "\n",
    "# get embedding vectors - each row is a job posting, each column is a feature\n",
    "embeddings = pd.read_csv('text_embeddings.csv', index_col=0)\n",
    "\n",
    "all_postings = pd.read_csv('processed_description.csv', index_col=0)\n",
    "\n",
    "text = all_postings['processed_description']\n",
    "salary_bins = all_postings['salary_bin']\n",
    "salary_ranges = all_postings['salary_range']\n",
    "\n",
    "\n",
    "\n"
   ]
  },
  {
   "cell_type": "markdown",
   "metadata": {},
   "source": [
    "## Split train, validation, and test set: \n"
   ]
  },
  {
   "cell_type": "code",
   "execution_count": 11,
   "metadata": {},
   "outputs": [],
   "source": [
    "from sklearn.model_selection import train_test_split\n",
    "\n",
    "\n",
    "\n",
    "X_train, X_test, y_train, y_test = train_test_split(embeddings, salary_bins, test_size=0.2)\n",
    "X_train, X_val, y_train, y_val = train_test_split(X_train, y_train, test_size=0.2)"
   ]
  },
  {
   "cell_type": "markdown",
   "metadata": {},
   "source": [
    "## Logistic Regression"
   ]
  },
  {
   "cell_type": "code",
   "execution_count": 32,
   "metadata": {},
   "outputs": [
    {
     "name": "stdout",
     "output_type": "stream",
     "text": [
      "Accuracy: 0.5838951310861423\n",
      "F1: 0.5801127152649272\n",
      "AUROC: 0.8205238544057819\n"
     ]
    }
   ],
   "source": [
    "from sklearn.linear_model import LogisticRegression\n",
    "from sklearn.metrics import accuracy_score, f1_score, roc_auc_score, precision_recall_curve, auc\n",
    "\n",
    "model = LogisticRegression(max_iter=1000, C = 1)\n",
    "model.fit(X_train, y_train)\n",
    "\n",
    "y_pred = model.predict(X_test)\n",
    "y_pred_proba = model.predict_proba(X_test)\n",
    "\n",
    "\n",
    "\n",
    "print('Accuracy:', accuracy_score(y_test, y_pred))\n",
    "print('F1:', f1_score(y_test, y_pred, average='weighted'))\n",
    "print('AUROC:', roc_auc_score(y_test, y_pred_proba, multi_class='ovr'))\n",
    "\n",
    "\n",
    "\n"
   ]
  },
  {
   "cell_type": "markdown",
   "metadata": {},
   "source": [
    "## Random Forest Classifier"
   ]
  },
  {
   "cell_type": "code",
   "execution_count": 25,
   "metadata": {},
   "outputs": [
    {
     "name": "stdout",
     "output_type": "stream",
     "text": [
      "Accuracy: 0.6209737827715356\n",
      "F1: 0.6108050157548137\n",
      "ROC AUC: 0.8449678741548263\n"
     ]
    }
   ],
   "source": [
    "from sklearn.ensemble import RandomForestClassifier\n",
    "\n",
    "model = RandomForestClassifier(n_estimators=100, max_depth=20)\n",
    "model.fit(X_train, y_train)\n",
    "\n",
    "y_pred = model.predict(X_test)\n",
    "y_pred_proba = model.predict_proba(X_test)\n",
    "\n",
    "print('Accuracy:', accuracy_score(y_test, y_pred))\n",
    "print('F1:', f1_score(y_test, y_pred, average='weighted'))\n",
    "print('ROC AUC:', roc_auc_score(y_test, y_pred_proba, multi_class='ovr'))\n",
    "\n"
   ]
  },
  {
   "cell_type": "markdown",
   "metadata": {},
   "source": [
    "## XGBoost"
   ]
  },
  {
   "cell_type": "code",
   "execution_count": 26,
   "metadata": {},
   "outputs": [
    {
     "name": "stdout",
     "output_type": "stream",
     "text": [
      "Accuracy: 0.6262172284644195\n",
      "F1: 0.6227912112059231\n",
      "ROC AUC: 0.8498956393466891\n"
     ]
    }
   ],
   "source": [
    "import xgboost as xgb\n",
    "\n",
    "xgb = xgb.XGBClassifier(objective='multi:softmax', num_class=5, max_depth=20, n_estimators=100)\n",
    "xgb.fit(X_train, y_train)\n",
    "\n",
    "y_pred = xgb.predict(X_test)\n",
    "y_pred_proba = xgb.predict_proba(X_test)\n",
    "\n",
    "print('Accuracy:', accuracy_score(y_test, y_pred))\n",
    "print('F1:', f1_score(y_test, y_pred, average='weighted'))\n",
    "print('ROC AUC:', roc_auc_score(y_test, y_pred_proba, multi_class='ovr'))\n",
    "\n"
   ]
  },
  {
   "cell_type": "markdown",
   "metadata": {},
   "source": [
    "## Feed Forward Network"
   ]
  },
  {
   "cell_type": "code",
   "execution_count": 28,
   "metadata": {},
   "outputs": [
    {
     "name": "stdout",
     "output_type": "stream",
     "text": [
      "Accuracy: 0.601123595505618\n",
      "F1: 0.6018189006020477\n",
      "ROC AUC: 0.8058940526022109\n"
     ]
    }
   ],
   "source": [
    "#  feedforward\n",
    "from sklearn.neural_network import MLPClassifier\n",
    "\n",
    "model = MLPClassifier(hidden_layer_sizes=(100,50) , max_iter=1000, learning_rate='adaptive', )\n",
    "model.fit(X_train, y_train)\n",
    "\n",
    "y_pred = model.predict(X_test)\n",
    "y_pred_proba = model.predict_proba(X_test)\n",
    "\n",
    "print('Accuracy:', accuracy_score(y_test, y_pred))\n",
    "print('F1:', f1_score(y_test, y_pred, average='weighted'))\n",
    "print('ROC AUC:', roc_auc_score(y_test, y_pred_proba, multi_class='ovr'))\n",
    "\n"
   ]
  },
  {
   "cell_type": "markdown",
   "metadata": {},
   "source": [
    "## Deep Neural Network"
   ]
  },
  {
   "cell_type": "code",
   "execution_count": 80,
   "metadata": {},
   "outputs": [],
   "source": [
    "import torch\n",
    "import torch.nn as nn\n",
    "import torch.optim as optim\n",
    "\n",
    "class NN(nn.Module):\n",
    "    def __init__(self, input_dim, hidden_dim, output_dim, hidden_layers=200):\n",
    "        super(NN, self).__init__()\n",
    "        self.layers = nn.ModuleList()\n",
    "        self.layers.append(nn.Linear(input_dim, hidden_dim))\n",
    "        self.layers.append(nn.ReLU())\n",
    "        for i in range(hidden_layers):\n",
    "            self.layers.append(nn.Linear(hidden_dim, hidden_dim))\n",
    "            self.layers.append((nn.ReLU()))\n",
    "        self.layers.append(nn.Linear(hidden_dim, output_dim))\n",
    "        self.layers.append(nn.Softmax())\n",
    "        \n",
    "\n",
    "    \n",
    "    def forward(self, x):\n",
    "        for layer in self.layers:\n",
    "            x = layer(x)\n",
    "        return x\n",
    "    \n",
    "    \n"
   ]
  },
  {
   "cell_type": "code",
   "execution_count": 81,
   "metadata": {},
   "outputs": [],
   "source": [
    "# create train and test loaders\n",
    "from torch.utils.data import TensorDataset, DataLoader\n",
    "\n",
    "X_train_tensor = torch.tensor(X_train.values).float()\n",
    "y_train_tensor = torch.tensor(y_train.values).float()\n",
    "train_dataset = TensorDataset(X_train_tensor, y_train_tensor)\n",
    "train_loader = DataLoader(train_dataset, batch_size=8, shuffle=True)\n",
    "\n",
    "X_test_tensor = torch.tensor(X_test.values).float()\n",
    "y_test_tensor = torch.tensor(y_test.values).float()\n",
    "test_dataset = TensorDataset(X_test_tensor, y_test_tensor)\n",
    "test_loader = DataLoader(test_dataset, batch_size=8, shuffle=True)\n",
    "\n",
    "\n"
   ]
  },
  {
   "cell_type": "code",
   "execution_count": 124,
   "metadata": {},
   "outputs": [],
   "source": [
    "device = 'mps'\n",
    "from sklearn.metrics import roc_auc_score, auc, precision_recall_curve\n",
    "from torch.nn import functional as F\n",
    "def train(epoch, model, optimizer, verbose=False):\n",
    "    model.train()\n",
    "    epoch_loss = 0\n",
    "    losses = []\n",
    "    for batch_idx, (data, target) in enumerate(train_loader):\n",
    "        # send data to device, where the \"device\" is either a GPU if it exists or a CPU\n",
    "        data, target = data.to(device), target.to(device)\n",
    "        \n",
    "       \n",
    "        optimizer.zero_grad()\n",
    "        # forward pass through the model\n",
    "        output = model(data)\n",
    "        # forward pass through the cross-entropy loss function\n",
    "        loss = F.cross_entropy(output, target)\n",
    "        # backward pass through the cross-entropy loss function and the model\n",
    "        loss.backward()\n",
    "        \n",
    "        optimizer.step()\n",
    "        if batch_idx % 50 == 0:\n",
    "            losses.append(loss.detach())\n",
    "            if verbose :\n",
    "                print('Train Epoch: {} [{}/{} ({:.0f}%)]\\tLoss: {:.6f}'.format(\n",
    "                    epoch, batch_idx * len(data), len(train_loader.dataset),\n",
    "                    100. * batch_idx / len(train_loader), loss.item()))\n",
    "    return losses\n",
    "\n",
    "def test(model, verbose=False):\n",
    "    model.eval()\n",
    "    accuracy_list = []\n",
    "    test_loss = 0\n",
    "    correct = 0\n",
    "    with torch.no_grad():\n",
    "        for data, target in test_loader:\n",
    "            # send data to device, where the \"device\" is either a GPU if it exists or a CPU\n",
    "            data, target = data.to(device), target.to(device)\n",
    "\n",
    "            output = model(data)\n",
    "            test_loss += F.cross_entropy(output, target, reduction='sum').item() # sum up batch loss                                                               \n",
    "            pred = output.data.max(1, keepdim=True)[1] # get the index of the max log-probability      \n",
    "                                                                       \n",
    "            correct += pred.eq(target.data.view_as(pred)).cpu().sum().item()\n",
    "\n",
    "        test_loss /= len(test_loader.dataset)\n",
    "        accuracy = 100. * correct / len(test_loader.dataset)\n",
    "        accuracy_list.append(accuracy) \n",
    "        if verbose :\n",
    "            print('\\nTest set: Average loss: {:.4f}, Accuracy: {}/{} ({:.0f}%)\\n'.format(\n",
    "                test_loss, correct, len(test_loader.dataset),\n",
    "                accuracy))\n",
    "    return test_loss\n",
    "        \n",
    "    \n",
    "  \n",
    "\n"
   ]
  },
  {
   "cell_type": "code",
   "execution_count": 93,
   "metadata": {},
   "outputs": [
    {
     "name": "stdout",
     "output_type": "stream",
     "text": [
      "Train Epoch: 0 [0/8544 (0%)]\tLoss: 1.383192\n",
      "Train Epoch: 0 [400/8544 (5%)]\tLoss: 1.369093\n",
      "Train Epoch: 0 [800/8544 (9%)]\tLoss: 1.362616\n",
      "Train Epoch: 0 [1200/8544 (14%)]\tLoss: 1.365144\n",
      "Train Epoch: 0 [1600/8544 (19%)]\tLoss: 1.394041\n",
      "Train Epoch: 0 [2000/8544 (23%)]\tLoss: 1.386245\n",
      "Train Epoch: 0 [2400/8544 (28%)]\tLoss: 1.364973\n",
      "Train Epoch: 0 [2800/8544 (33%)]\tLoss: 1.344723\n",
      "Train Epoch: 0 [3200/8544 (37%)]\tLoss: 1.447926\n",
      "Train Epoch: 0 [3600/8544 (42%)]\tLoss: 1.202145\n",
      "Train Epoch: 0 [4000/8544 (47%)]\tLoss: 1.537641\n",
      "Train Epoch: 0 [4400/8544 (51%)]\tLoss: 1.462501\n",
      "Train Epoch: 0 [4800/8544 (56%)]\tLoss: 1.347900\n",
      "Train Epoch: 0 [5200/8544 (61%)]\tLoss: 1.439529\n",
      "Train Epoch: 0 [5600/8544 (66%)]\tLoss: 1.431099\n",
      "Train Epoch: 0 [6000/8544 (70%)]\tLoss: 1.374487\n",
      "Train Epoch: 0 [6400/8544 (75%)]\tLoss: 1.215461\n",
      "Train Epoch: 0 [6800/8544 (80%)]\tLoss: 1.513960\n",
      "Train Epoch: 0 [7200/8544 (84%)]\tLoss: 1.467368\n",
      "Train Epoch: 0 [7600/8544 (89%)]\tLoss: 1.243886\n",
      "Train Epoch: 0 [8000/8544 (94%)]\tLoss: 1.368021\n",
      "Train Epoch: 0 [8400/8544 (98%)]\tLoss: 1.350073\n",
      "\n",
      "Test set: Average loss: 1.3378, Accuracy: 1019/2670 (38%)\n",
      "\n",
      "Train Epoch: 1 [0/8544 (0%)]\tLoss: 1.537784\n",
      "Train Epoch: 1 [400/8544 (5%)]\tLoss: 1.245466\n",
      "Train Epoch: 1 [800/8544 (9%)]\tLoss: 1.298087\n",
      "Train Epoch: 1 [1200/8544 (14%)]\tLoss: 1.238751\n",
      "Train Epoch: 1 [1600/8544 (19%)]\tLoss: 1.347165\n",
      "Train Epoch: 1 [2000/8544 (23%)]\tLoss: 1.253144\n",
      "Train Epoch: 1 [2400/8544 (28%)]\tLoss: 1.417915\n",
      "Train Epoch: 1 [2800/8544 (33%)]\tLoss: 1.259140\n",
      "Train Epoch: 1 [3200/8544 (37%)]\tLoss: 1.337898\n",
      "Train Epoch: 1 [3600/8544 (42%)]\tLoss: 1.339563\n",
      "Train Epoch: 1 [4000/8544 (47%)]\tLoss: 1.379163\n",
      "Train Epoch: 1 [4400/8544 (51%)]\tLoss: 1.265937\n",
      "Train Epoch: 1 [4800/8544 (56%)]\tLoss: 1.354991\n",
      "Train Epoch: 1 [5200/8544 (61%)]\tLoss: 1.354349\n",
      "Train Epoch: 1 [5600/8544 (66%)]\tLoss: 1.279845\n",
      "Train Epoch: 1 [6000/8544 (70%)]\tLoss: 1.175146\n",
      "Train Epoch: 1 [6400/8544 (75%)]\tLoss: 1.338516\n",
      "Train Epoch: 1 [6800/8544 (80%)]\tLoss: 1.254330\n",
      "Train Epoch: 1 [7200/8544 (84%)]\tLoss: 1.244178\n",
      "Train Epoch: 1 [7600/8544 (89%)]\tLoss: 1.420476\n",
      "Train Epoch: 1 [8000/8544 (94%)]\tLoss: 1.281197\n",
      "Train Epoch: 1 [8400/8544 (98%)]\tLoss: 1.489952\n",
      "\n",
      "Test set: Average loss: 1.3348, Accuracy: 1019/2670 (38%)\n",
      "\n",
      "Train Epoch: 2 [0/8544 (0%)]\tLoss: 1.342492\n",
      "Train Epoch: 2 [400/8544 (5%)]\tLoss: 1.171943\n",
      "Train Epoch: 2 [800/8544 (9%)]\tLoss: 1.522954\n",
      "Train Epoch: 2 [1200/8544 (14%)]\tLoss: 1.350918\n",
      "Train Epoch: 2 [1600/8544 (19%)]\tLoss: 1.336192\n",
      "Train Epoch: 2 [2000/8544 (23%)]\tLoss: 1.224183\n",
      "Train Epoch: 2 [2400/8544 (28%)]\tLoss: 1.408262\n",
      "Train Epoch: 2 [2800/8544 (33%)]\tLoss: 1.367860\n",
      "Train Epoch: 2 [3200/8544 (37%)]\tLoss: 1.404308\n",
      "Train Epoch: 2 [3600/8544 (42%)]\tLoss: 1.404178\n",
      "Train Epoch: 2 [4000/8544 (47%)]\tLoss: 1.133883\n",
      "Train Epoch: 2 [4400/8544 (51%)]\tLoss: 1.304977\n",
      "Train Epoch: 2 [4800/8544 (56%)]\tLoss: 1.177723\n",
      "Train Epoch: 2 [5200/8544 (61%)]\tLoss: 1.371107\n",
      "Train Epoch: 2 [5600/8544 (66%)]\tLoss: 1.405629\n",
      "Train Epoch: 2 [6000/8544 (70%)]\tLoss: 1.387765\n",
      "Train Epoch: 2 [6400/8544 (75%)]\tLoss: 1.428295\n",
      "Train Epoch: 2 [6800/8544 (80%)]\tLoss: 1.354579\n",
      "Train Epoch: 2 [7200/8544 (84%)]\tLoss: 1.011098\n",
      "Train Epoch: 2 [7600/8544 (89%)]\tLoss: 1.047514\n",
      "Train Epoch: 2 [8000/8544 (94%)]\tLoss: 1.451961\n",
      "Train Epoch: 2 [8400/8544 (98%)]\tLoss: 1.482553\n",
      "\n",
      "Test set: Average loss: 1.3212, Accuracy: 1019/2670 (38%)\n",
      "\n",
      "Train Epoch: 3 [0/8544 (0%)]\tLoss: 1.612276\n",
      "Train Epoch: 3 [400/8544 (5%)]\tLoss: 1.332649\n",
      "Train Epoch: 3 [800/8544 (9%)]\tLoss: 1.341788\n",
      "Train Epoch: 3 [1200/8544 (14%)]\tLoss: 1.378729\n",
      "Train Epoch: 3 [1600/8544 (19%)]\tLoss: 1.441809\n",
      "Train Epoch: 3 [2000/8544 (23%)]\tLoss: 1.220948\n",
      "Train Epoch: 3 [2400/8544 (28%)]\tLoss: 1.346006\n",
      "Train Epoch: 3 [2800/8544 (33%)]\tLoss: 1.220393\n",
      "Train Epoch: 3 [3200/8544 (37%)]\tLoss: 1.464730\n",
      "Train Epoch: 3 [3600/8544 (42%)]\tLoss: 1.323531\n",
      "Train Epoch: 3 [4000/8544 (47%)]\tLoss: 1.511113\n",
      "Train Epoch: 3 [4400/8544 (51%)]\tLoss: 1.415874\n",
      "Train Epoch: 3 [4800/8544 (56%)]\tLoss: 1.094411\n",
      "Train Epoch: 3 [5200/8544 (61%)]\tLoss: 1.074265\n",
      "Train Epoch: 3 [5600/8544 (66%)]\tLoss: 1.281773\n",
      "Train Epoch: 3 [6000/8544 (70%)]\tLoss: 1.336289\n",
      "Train Epoch: 3 [6400/8544 (75%)]\tLoss: 1.292962\n",
      "Train Epoch: 3 [6800/8544 (80%)]\tLoss: 1.412989\n",
      "Train Epoch: 3 [7200/8544 (84%)]\tLoss: 1.312356\n",
      "Train Epoch: 3 [7600/8544 (89%)]\tLoss: 1.311892\n",
      "Train Epoch: 3 [8000/8544 (94%)]\tLoss: 1.374686\n",
      "Train Epoch: 3 [8400/8544 (98%)]\tLoss: 1.304498\n",
      "\n",
      "Test set: Average loss: 1.3099, Accuracy: 1019/2670 (38%)\n",
      "\n",
      "Train Epoch: 4 [0/8544 (0%)]\tLoss: 1.420041\n",
      "Train Epoch: 4 [400/8544 (5%)]\tLoss: 1.123643\n",
      "Train Epoch: 4 [800/8544 (9%)]\tLoss: 1.432685\n",
      "Train Epoch: 4 [1200/8544 (14%)]\tLoss: 1.248397\n",
      "Train Epoch: 4 [1600/8544 (19%)]\tLoss: 1.073372\n",
      "Train Epoch: 4 [2000/8544 (23%)]\tLoss: 1.221613\n",
      "Train Epoch: 4 [2400/8544 (28%)]\tLoss: 1.317332\n",
      "Train Epoch: 4 [2800/8544 (33%)]\tLoss: 1.303902\n",
      "Train Epoch: 4 [3200/8544 (37%)]\tLoss: 1.191308\n",
      "Train Epoch: 4 [3600/8544 (42%)]\tLoss: 1.182204\n",
      "Train Epoch: 4 [4000/8544 (47%)]\tLoss: 1.214166\n",
      "Train Epoch: 4 [4400/8544 (51%)]\tLoss: 1.441690\n",
      "Train Epoch: 4 [4800/8544 (56%)]\tLoss: 1.251693\n",
      "Train Epoch: 4 [5200/8544 (61%)]\tLoss: 1.430380\n",
      "Train Epoch: 4 [5600/8544 (66%)]\tLoss: 1.289533\n",
      "Train Epoch: 4 [6000/8544 (70%)]\tLoss: 1.404227\n",
      "Train Epoch: 4 [6400/8544 (75%)]\tLoss: 1.426564\n",
      "Train Epoch: 4 [6800/8544 (80%)]\tLoss: 1.430463\n",
      "Train Epoch: 4 [7200/8544 (84%)]\tLoss: 1.145719\n",
      "Train Epoch: 4 [7600/8544 (89%)]\tLoss: 1.242162\n",
      "Train Epoch: 4 [8000/8544 (94%)]\tLoss: 1.304003\n",
      "Train Epoch: 4 [8400/8544 (98%)]\tLoss: 1.204371\n",
      "\n",
      "Test set: Average loss: 1.3051, Accuracy: 1113/2670 (42%)\n",
      "\n",
      "Train Epoch: 5 [0/8544 (0%)]\tLoss: 1.387244\n",
      "Train Epoch: 5 [400/8544 (5%)]\tLoss: 1.355523\n",
      "Train Epoch: 5 [800/8544 (9%)]\tLoss: 1.334503\n",
      "Train Epoch: 5 [1200/8544 (14%)]\tLoss: 1.328070\n",
      "Train Epoch: 5 [1600/8544 (19%)]\tLoss: 1.218484\n",
      "Train Epoch: 5 [2000/8544 (23%)]\tLoss: 1.134521\n",
      "Train Epoch: 5 [2400/8544 (28%)]\tLoss: 1.197773\n",
      "Train Epoch: 5 [2800/8544 (33%)]\tLoss: 1.284974\n",
      "Train Epoch: 5 [3200/8544 (37%)]\tLoss: 1.169955\n",
      "Train Epoch: 5 [3600/8544 (42%)]\tLoss: 1.523563\n",
      "Train Epoch: 5 [4000/8544 (47%)]\tLoss: 1.270543\n",
      "Train Epoch: 5 [4400/8544 (51%)]\tLoss: 1.202975\n",
      "Train Epoch: 5 [4800/8544 (56%)]\tLoss: 1.478952\n",
      "Train Epoch: 5 [5200/8544 (61%)]\tLoss: 1.464669\n",
      "Train Epoch: 5 [5600/8544 (66%)]\tLoss: 1.093016\n",
      "Train Epoch: 5 [6000/8544 (70%)]\tLoss: 1.141249\n",
      "Train Epoch: 5 [6400/8544 (75%)]\tLoss: 1.491620\n",
      "Train Epoch: 5 [6800/8544 (80%)]\tLoss: 1.293501\n",
      "Train Epoch: 5 [7200/8544 (84%)]\tLoss: 1.302688\n",
      "Train Epoch: 5 [7600/8544 (89%)]\tLoss: 1.286978\n",
      "Train Epoch: 5 [8000/8544 (94%)]\tLoss: 1.360421\n",
      "Train Epoch: 5 [8400/8544 (98%)]\tLoss: 1.412996\n",
      "\n",
      "Test set: Average loss: 1.3012, Accuracy: 1124/2670 (42%)\n",
      "\n",
      "Train Epoch: 6 [0/8544 (0%)]\tLoss: 1.196100\n",
      "Train Epoch: 6 [400/8544 (5%)]\tLoss: 1.317759\n",
      "Train Epoch: 6 [800/8544 (9%)]\tLoss: 1.115147\n",
      "Train Epoch: 6 [1200/8544 (14%)]\tLoss: 1.236240\n",
      "Train Epoch: 6 [1600/8544 (19%)]\tLoss: 1.193945\n",
      "Train Epoch: 6 [2000/8544 (23%)]\tLoss: 1.346796\n",
      "Train Epoch: 6 [2400/8544 (28%)]\tLoss: 1.142065\n",
      "Train Epoch: 6 [2800/8544 (33%)]\tLoss: 1.336830\n",
      "Train Epoch: 6 [3200/8544 (37%)]\tLoss: 1.224754\n",
      "Train Epoch: 6 [3600/8544 (42%)]\tLoss: 1.397702\n",
      "Train Epoch: 6 [4000/8544 (47%)]\tLoss: 1.375830\n",
      "Train Epoch: 6 [4400/8544 (51%)]\tLoss: 1.297103\n",
      "Train Epoch: 6 [4800/8544 (56%)]\tLoss: 1.353782\n",
      "Train Epoch: 6 [5200/8544 (61%)]\tLoss: 1.487138\n",
      "Train Epoch: 6 [5600/8544 (66%)]\tLoss: 1.133639\n",
      "Train Epoch: 6 [6000/8544 (70%)]\tLoss: 1.418021\n",
      "Train Epoch: 6 [6400/8544 (75%)]\tLoss: 1.043748\n",
      "Train Epoch: 6 [6800/8544 (80%)]\tLoss: 1.197588\n",
      "Train Epoch: 6 [7200/8544 (84%)]\tLoss: 1.225271\n",
      "Train Epoch: 6 [7600/8544 (89%)]\tLoss: 1.223235\n",
      "Train Epoch: 6 [8000/8544 (94%)]\tLoss: 1.219126\n",
      "Train Epoch: 6 [8400/8544 (98%)]\tLoss: 1.451458\n",
      "\n",
      "Test set: Average loss: 1.2938, Accuracy: 1121/2670 (42%)\n",
      "\n",
      "Train Epoch: 7 [0/8544 (0%)]\tLoss: 1.550071\n",
      "Train Epoch: 7 [400/8544 (5%)]\tLoss: 1.093274\n",
      "Train Epoch: 7 [800/8544 (9%)]\tLoss: 1.111343\n",
      "Train Epoch: 7 [1200/8544 (14%)]\tLoss: 1.403040\n",
      "Train Epoch: 7 [1600/8544 (19%)]\tLoss: 1.172049\n",
      "Train Epoch: 7 [2000/8544 (23%)]\tLoss: 1.426395\n",
      "Train Epoch: 7 [2400/8544 (28%)]\tLoss: 1.221671\n",
      "Train Epoch: 7 [2800/8544 (33%)]\tLoss: 1.270287\n",
      "Train Epoch: 7 [3200/8544 (37%)]\tLoss: 1.211674\n",
      "Train Epoch: 7 [3600/8544 (42%)]\tLoss: 1.460968\n",
      "Train Epoch: 7 [4000/8544 (47%)]\tLoss: 1.265562\n",
      "Train Epoch: 7 [4400/8544 (51%)]\tLoss: 1.295323\n",
      "Train Epoch: 7 [4800/8544 (56%)]\tLoss: 1.393684\n",
      "Train Epoch: 7 [5200/8544 (61%)]\tLoss: 1.122390\n",
      "Train Epoch: 7 [5600/8544 (66%)]\tLoss: 1.163821\n",
      "Train Epoch: 7 [6000/8544 (70%)]\tLoss: 1.440038\n",
      "Train Epoch: 7 [6400/8544 (75%)]\tLoss: 1.248399\n",
      "Train Epoch: 7 [6800/8544 (80%)]\tLoss: 1.264574\n",
      "Train Epoch: 7 [7200/8544 (84%)]\tLoss: 1.332721\n",
      "Train Epoch: 7 [7600/8544 (89%)]\tLoss: 1.396596\n",
      "Train Epoch: 7 [8000/8544 (94%)]\tLoss: 1.388306\n",
      "Train Epoch: 7 [8400/8544 (98%)]\tLoss: 1.248051\n",
      "\n",
      "Test set: Average loss: 1.2813, Accuracy: 1183/2670 (44%)\n",
      "\n",
      "Train Epoch: 8 [0/8544 (0%)]\tLoss: 1.212050\n",
      "Train Epoch: 8 [400/8544 (5%)]\tLoss: 1.353406\n",
      "Train Epoch: 8 [800/8544 (9%)]\tLoss: 1.367413\n",
      "Train Epoch: 8 [1200/8544 (14%)]\tLoss: 1.332668\n",
      "Train Epoch: 8 [1600/8544 (19%)]\tLoss: 1.361817\n",
      "Train Epoch: 8 [2000/8544 (23%)]\tLoss: 1.209384\n",
      "Train Epoch: 8 [2400/8544 (28%)]\tLoss: 1.220122\n",
      "Train Epoch: 8 [2800/8544 (33%)]\tLoss: 1.463281\n",
      "Train Epoch: 8 [3200/8544 (37%)]\tLoss: 1.315024\n",
      "Train Epoch: 8 [3600/8544 (42%)]\tLoss: 1.302006\n",
      "Train Epoch: 8 [4000/8544 (47%)]\tLoss: 1.348267\n",
      "Train Epoch: 8 [4400/8544 (51%)]\tLoss: 1.308746\n",
      "Train Epoch: 8 [4800/8544 (56%)]\tLoss: 1.352818\n",
      "Train Epoch: 8 [5200/8544 (61%)]\tLoss: 1.235614\n",
      "Train Epoch: 8 [5600/8544 (66%)]\tLoss: 1.403357\n",
      "Train Epoch: 8 [6000/8544 (70%)]\tLoss: 1.253433\n",
      "Train Epoch: 8 [6400/8544 (75%)]\tLoss: 1.283558\n",
      "Train Epoch: 8 [6800/8544 (80%)]\tLoss: 1.345473\n",
      "Train Epoch: 8 [7200/8544 (84%)]\tLoss: 1.364230\n",
      "Train Epoch: 8 [7600/8544 (89%)]\tLoss: 1.181265\n",
      "Train Epoch: 8 [8000/8544 (94%)]\tLoss: 1.324671\n",
      "Train Epoch: 8 [8400/8544 (98%)]\tLoss: 1.135063\n",
      "\n",
      "Test set: Average loss: 1.3782, Accuracy: 907/2670 (34%)\n",
      "\n",
      "Train Epoch: 9 [0/8544 (0%)]\tLoss: 1.484376\n",
      "Train Epoch: 9 [400/8544 (5%)]\tLoss: 1.030764\n",
      "Train Epoch: 9 [800/8544 (9%)]\tLoss: 1.246830\n",
      "Train Epoch: 9 [1200/8544 (14%)]\tLoss: 1.186141\n",
      "Train Epoch: 9 [1600/8544 (19%)]\tLoss: 1.100412\n",
      "Train Epoch: 9 [2000/8544 (23%)]\tLoss: 1.134968\n",
      "Train Epoch: 9 [2400/8544 (28%)]\tLoss: 1.192128\n",
      "Train Epoch: 9 [2800/8544 (33%)]\tLoss: 1.572821\n",
      "Train Epoch: 9 [3200/8544 (37%)]\tLoss: 1.336174\n",
      "Train Epoch: 9 [3600/8544 (42%)]\tLoss: 1.260063\n",
      "Train Epoch: 9 [4000/8544 (47%)]\tLoss: 1.313256\n",
      "Train Epoch: 9 [4400/8544 (51%)]\tLoss: 1.182820\n",
      "Train Epoch: 9 [4800/8544 (56%)]\tLoss: 1.348517\n",
      "Train Epoch: 9 [5200/8544 (61%)]\tLoss: 1.132064\n",
      "Train Epoch: 9 [5600/8544 (66%)]\tLoss: 1.030085\n",
      "Train Epoch: 9 [6000/8544 (70%)]\tLoss: 1.159654\n",
      "Train Epoch: 9 [6400/8544 (75%)]\tLoss: 1.235244\n",
      "Train Epoch: 9 [6800/8544 (80%)]\tLoss: 1.253400\n",
      "Train Epoch: 9 [7200/8544 (84%)]\tLoss: 1.371831\n",
      "Train Epoch: 9 [7600/8544 (89%)]\tLoss: 1.215522\n",
      "Train Epoch: 9 [8000/8544 (94%)]\tLoss: 1.241194\n",
      "Train Epoch: 9 [8400/8544 (98%)]\tLoss: 1.228304\n",
      "\n",
      "Test set: Average loss: 1.2449, Accuracy: 1337/2670 (50%)\n",
      "\n"
     ]
    }
   ],
   "source": [
    "from sklearn.metrics import accuracy_score, f1_score, roc_auc_score\n",
    "\n",
    "hidden_dim = 100\n",
    "hidden_layers = 25\n",
    "input_dim = embeddings.shape[1]\n",
    "output_dim = 4\n",
    "model = NN(input_dim, hidden_dim, output_dim, hidden_layers)\n",
    "\n",
    "optimizer = optim.Adam(model.parameters(), lr=0.0001)\n",
    "\n",
    "model.to(device)    \n",
    "\n",
    "for epoch in range(0, 10):\n",
    "    train(epoch, model, optimizer, verbose=True)\n",
    "    test(model, verbose=True)\n",
    "\n",
    "\n",
    "\n",
    "# y_pred = model(X_test_tensor.to(device))\n",
    "# y_pred = y_pred.argmax(dim=1).cpu().detach().numpy()\n",
    "# y_test = y_test_tensor.numpy()\n",
    "\n",
    "# print('Accuracy:', accuracy_score(y_test, y_pred))\n",
    "# print('F1:', f1_score(y_test, y_pred, average='weighted'))\n",
    "# print('ROC AUC:', roc_auc_score(y_test, y_pred, multi_class='ovr'))\n",
    "\n"
   ]
  },
  {
   "cell_type": "markdown",
   "metadata": {},
   "source": [
    "### RNN"
   ]
  },
  {
   "cell_type": "code",
   "execution_count": 129,
   "metadata": {},
   "outputs": [],
   "source": [
    "\n",
    "\n",
    "# class RNN(nn.Module):\n",
    "#     def __init__(self, embedding_dim, hidden_dim, output_dim):\n",
    "#         super(RNN, self).__init__()\n",
    "#         self.lstm = nn.LSTM(embedding_dim, hidden_dim, batch_first=True)\n",
    "#         self.fc = nn.Linear(hidden_dim, output_dim)\n",
    "\n",
    "#         self.softmax = nn.Softmax()\n",
    "\n",
    "#     def forward(self, x):\n",
    "#         x, _ = self.lstm(x)\n",
    "#         x = self.fc(x)\n",
    "#         x = self.softmax(x)\n",
    "#         return x\n",
    "    \n",
    "    \n",
    "    # Create RNN Model\n",
    "class RNNModel(nn.Module):\n",
    "    def __init__(self, input_dim, hidden_dim, layer_dim, output_dim):\n",
    "        super(RNNModel, self).__init__()\n",
    "        \n",
    "        # Number of hidden dimensions\n",
    "        self.hidden_dim = hidden_dim\n",
    "        \n",
    "        # Number of hidden layers\n",
    "        self.layer_dim = layer_dim\n",
    "        \n",
    "        # RNN\n",
    "        self.rnn = nn.RNN(input_dim, hidden_dim, layer_dim, batch_first=True, nonlinearity='relu')\n",
    "        \n",
    "        # Readout layer\n",
    "        self.fc = nn.Linear(hidden_dim, output_dim)\n",
    "\n",
    "    \n",
    "    def forward(self, x):\n",
    "        \n",
    "        # Initialize hidden state with zeros\n",
    "        h0 = torch.zeros(self.layer_dim, x.size(0), self.hidden_dim).to(device)\n",
    "\n",
    "        \n",
    "        # One time step\n",
    "        out, hn = self.rnn(x, h0)\n",
    "        out = self.fc(out[:, -1, :]) \n",
    "   \n",
    "        \n",
    "        return out"
   ]
  },
  {
   "cell_type": "code",
   "execution_count": 131,
   "metadata": {},
   "outputs": [
    {
     "ename": "RuntimeError",
     "evalue": "For unbatched 2-D input, hx should also be 2-D but got 3-D tensor",
     "output_type": "error",
     "traceback": [
      "\u001b[0;31m---------------------------------------------------------------------------\u001b[0m",
      "\u001b[0;31mRuntimeError\u001b[0m                              Traceback (most recent call last)",
      "Cell \u001b[0;32mIn[131], line 12\u001b[0m\n\u001b[1;32m      9\u001b[0m model\u001b[38;5;241m.\u001b[39mto(device)\n\u001b[1;32m     11\u001b[0m \u001b[38;5;28;01mfor\u001b[39;00m epoch \u001b[38;5;129;01min\u001b[39;00m \u001b[38;5;28mrange\u001b[39m(\u001b[38;5;241m0\u001b[39m, \u001b[38;5;241m10\u001b[39m):\n\u001b[0;32m---> 12\u001b[0m     train(epoch, model, optimizer, verbose\u001b[38;5;241m=\u001b[39m\u001b[38;5;28;01mTrue\u001b[39;00m)\n\u001b[1;32m     13\u001b[0m     test(model, verbose\u001b[38;5;241m=\u001b[39m\u001b[38;5;28;01mTrue\u001b[39;00m)\n",
      "Cell \u001b[0;32mIn[124], line 15\u001b[0m, in \u001b[0;36mtrain\u001b[0;34m(epoch, model, optimizer, verbose)\u001b[0m\n\u001b[1;32m     13\u001b[0m optimizer\u001b[38;5;241m.\u001b[39mzero_grad()\n\u001b[1;32m     14\u001b[0m \u001b[38;5;66;03m# forward pass through the model\u001b[39;00m\n\u001b[0;32m---> 15\u001b[0m output \u001b[38;5;241m=\u001b[39m model(data)\n\u001b[1;32m     16\u001b[0m \u001b[38;5;66;03m# forward pass through the cross-entropy loss function\u001b[39;00m\n\u001b[1;32m     17\u001b[0m loss \u001b[38;5;241m=\u001b[39m F\u001b[38;5;241m.\u001b[39mcross_entropy(output, target)\n",
      "File \u001b[0;32m~/anaconda3/lib/python3.11/site-packages/torch/nn/modules/module.py:1511\u001b[0m, in \u001b[0;36mModule._wrapped_call_impl\u001b[0;34m(self, *args, **kwargs)\u001b[0m\n\u001b[1;32m   1509\u001b[0m     \u001b[38;5;28;01mreturn\u001b[39;00m \u001b[38;5;28mself\u001b[39m\u001b[38;5;241m.\u001b[39m_compiled_call_impl(\u001b[38;5;241m*\u001b[39margs, \u001b[38;5;241m*\u001b[39m\u001b[38;5;241m*\u001b[39mkwargs)  \u001b[38;5;66;03m# type: ignore[misc]\u001b[39;00m\n\u001b[1;32m   1510\u001b[0m \u001b[38;5;28;01melse\u001b[39;00m:\n\u001b[0;32m-> 1511\u001b[0m     \u001b[38;5;28;01mreturn\u001b[39;00m \u001b[38;5;28mself\u001b[39m\u001b[38;5;241m.\u001b[39m_call_impl(\u001b[38;5;241m*\u001b[39margs, \u001b[38;5;241m*\u001b[39m\u001b[38;5;241m*\u001b[39mkwargs)\n",
      "File \u001b[0;32m~/anaconda3/lib/python3.11/site-packages/torch/nn/modules/module.py:1520\u001b[0m, in \u001b[0;36mModule._call_impl\u001b[0;34m(self, *args, **kwargs)\u001b[0m\n\u001b[1;32m   1515\u001b[0m \u001b[38;5;66;03m# If we don't have any hooks, we want to skip the rest of the logic in\u001b[39;00m\n\u001b[1;32m   1516\u001b[0m \u001b[38;5;66;03m# this function, and just call forward.\u001b[39;00m\n\u001b[1;32m   1517\u001b[0m \u001b[38;5;28;01mif\u001b[39;00m \u001b[38;5;129;01mnot\u001b[39;00m (\u001b[38;5;28mself\u001b[39m\u001b[38;5;241m.\u001b[39m_backward_hooks \u001b[38;5;129;01mor\u001b[39;00m \u001b[38;5;28mself\u001b[39m\u001b[38;5;241m.\u001b[39m_backward_pre_hooks \u001b[38;5;129;01mor\u001b[39;00m \u001b[38;5;28mself\u001b[39m\u001b[38;5;241m.\u001b[39m_forward_hooks \u001b[38;5;129;01mor\u001b[39;00m \u001b[38;5;28mself\u001b[39m\u001b[38;5;241m.\u001b[39m_forward_pre_hooks\n\u001b[1;32m   1518\u001b[0m         \u001b[38;5;129;01mor\u001b[39;00m _global_backward_pre_hooks \u001b[38;5;129;01mor\u001b[39;00m _global_backward_hooks\n\u001b[1;32m   1519\u001b[0m         \u001b[38;5;129;01mor\u001b[39;00m _global_forward_hooks \u001b[38;5;129;01mor\u001b[39;00m _global_forward_pre_hooks):\n\u001b[0;32m-> 1520\u001b[0m     \u001b[38;5;28;01mreturn\u001b[39;00m forward_call(\u001b[38;5;241m*\u001b[39margs, \u001b[38;5;241m*\u001b[39m\u001b[38;5;241m*\u001b[39mkwargs)\n\u001b[1;32m   1522\u001b[0m \u001b[38;5;28;01mtry\u001b[39;00m:\n\u001b[1;32m   1523\u001b[0m     result \u001b[38;5;241m=\u001b[39m \u001b[38;5;28;01mNone\u001b[39;00m\n",
      "Cell \u001b[0;32mIn[129], line 42\u001b[0m, in \u001b[0;36mRNNModel.forward\u001b[0;34m(self, x)\u001b[0m\n\u001b[1;32m     38\u001b[0m h0 \u001b[38;5;241m=\u001b[39m torch\u001b[38;5;241m.\u001b[39mzeros(\u001b[38;5;28mself\u001b[39m\u001b[38;5;241m.\u001b[39mlayer_dim, x\u001b[38;5;241m.\u001b[39msize(\u001b[38;5;241m0\u001b[39m), \u001b[38;5;28mself\u001b[39m\u001b[38;5;241m.\u001b[39mhidden_dim)\u001b[38;5;241m.\u001b[39mto(device)\n\u001b[1;32m     41\u001b[0m \u001b[38;5;66;03m# One time step\u001b[39;00m\n\u001b[0;32m---> 42\u001b[0m out, hn \u001b[38;5;241m=\u001b[39m \u001b[38;5;28mself\u001b[39m\u001b[38;5;241m.\u001b[39mrnn(x, h0)\n\u001b[1;32m     43\u001b[0m out \u001b[38;5;241m=\u001b[39m \u001b[38;5;28mself\u001b[39m\u001b[38;5;241m.\u001b[39mfc(out[:, \u001b[38;5;241m-\u001b[39m\u001b[38;5;241m1\u001b[39m, :]) \n\u001b[1;32m     44\u001b[0m out \u001b[38;5;241m=\u001b[39m \u001b[38;5;28mself\u001b[39m\u001b[38;5;241m.\u001b[39msoftmax(out)\n",
      "File \u001b[0;32m~/anaconda3/lib/python3.11/site-packages/torch/nn/modules/module.py:1511\u001b[0m, in \u001b[0;36mModule._wrapped_call_impl\u001b[0;34m(self, *args, **kwargs)\u001b[0m\n\u001b[1;32m   1509\u001b[0m     \u001b[38;5;28;01mreturn\u001b[39;00m \u001b[38;5;28mself\u001b[39m\u001b[38;5;241m.\u001b[39m_compiled_call_impl(\u001b[38;5;241m*\u001b[39margs, \u001b[38;5;241m*\u001b[39m\u001b[38;5;241m*\u001b[39mkwargs)  \u001b[38;5;66;03m# type: ignore[misc]\u001b[39;00m\n\u001b[1;32m   1510\u001b[0m \u001b[38;5;28;01melse\u001b[39;00m:\n\u001b[0;32m-> 1511\u001b[0m     \u001b[38;5;28;01mreturn\u001b[39;00m \u001b[38;5;28mself\u001b[39m\u001b[38;5;241m.\u001b[39m_call_impl(\u001b[38;5;241m*\u001b[39margs, \u001b[38;5;241m*\u001b[39m\u001b[38;5;241m*\u001b[39mkwargs)\n",
      "File \u001b[0;32m~/anaconda3/lib/python3.11/site-packages/torch/nn/modules/module.py:1520\u001b[0m, in \u001b[0;36mModule._call_impl\u001b[0;34m(self, *args, **kwargs)\u001b[0m\n\u001b[1;32m   1515\u001b[0m \u001b[38;5;66;03m# If we don't have any hooks, we want to skip the rest of the logic in\u001b[39;00m\n\u001b[1;32m   1516\u001b[0m \u001b[38;5;66;03m# this function, and just call forward.\u001b[39;00m\n\u001b[1;32m   1517\u001b[0m \u001b[38;5;28;01mif\u001b[39;00m \u001b[38;5;129;01mnot\u001b[39;00m (\u001b[38;5;28mself\u001b[39m\u001b[38;5;241m.\u001b[39m_backward_hooks \u001b[38;5;129;01mor\u001b[39;00m \u001b[38;5;28mself\u001b[39m\u001b[38;5;241m.\u001b[39m_backward_pre_hooks \u001b[38;5;129;01mor\u001b[39;00m \u001b[38;5;28mself\u001b[39m\u001b[38;5;241m.\u001b[39m_forward_hooks \u001b[38;5;129;01mor\u001b[39;00m \u001b[38;5;28mself\u001b[39m\u001b[38;5;241m.\u001b[39m_forward_pre_hooks\n\u001b[1;32m   1518\u001b[0m         \u001b[38;5;129;01mor\u001b[39;00m _global_backward_pre_hooks \u001b[38;5;129;01mor\u001b[39;00m _global_backward_hooks\n\u001b[1;32m   1519\u001b[0m         \u001b[38;5;129;01mor\u001b[39;00m _global_forward_hooks \u001b[38;5;129;01mor\u001b[39;00m _global_forward_pre_hooks):\n\u001b[0;32m-> 1520\u001b[0m     \u001b[38;5;28;01mreturn\u001b[39;00m forward_call(\u001b[38;5;241m*\u001b[39margs, \u001b[38;5;241m*\u001b[39m\u001b[38;5;241m*\u001b[39mkwargs)\n\u001b[1;32m   1522\u001b[0m \u001b[38;5;28;01mtry\u001b[39;00m:\n\u001b[1;32m   1523\u001b[0m     result \u001b[38;5;241m=\u001b[39m \u001b[38;5;28;01mNone\u001b[39;00m\n",
      "File \u001b[0;32m~/anaconda3/lib/python3.11/site-packages/torch/nn/modules/rnn.py:530\u001b[0m, in \u001b[0;36mRNN.forward\u001b[0;34m(self, input, hx)\u001b[0m\n\u001b[1;32m    528\u001b[0m     \u001b[38;5;28;01mif\u001b[39;00m hx \u001b[38;5;129;01mis\u001b[39;00m \u001b[38;5;129;01mnot\u001b[39;00m \u001b[38;5;28;01mNone\u001b[39;00m:\n\u001b[1;32m    529\u001b[0m         \u001b[38;5;28;01mif\u001b[39;00m hx\u001b[38;5;241m.\u001b[39mdim() \u001b[38;5;241m!=\u001b[39m \u001b[38;5;241m2\u001b[39m:\n\u001b[0;32m--> 530\u001b[0m             \u001b[38;5;28;01mraise\u001b[39;00m \u001b[38;5;167;01mRuntimeError\u001b[39;00m(\n\u001b[1;32m    531\u001b[0m                 \u001b[38;5;124mf\u001b[39m\u001b[38;5;124m\"\u001b[39m\u001b[38;5;124mFor unbatched 2-D input, hx should also be 2-D but got \u001b[39m\u001b[38;5;132;01m{\u001b[39;00mhx\u001b[38;5;241m.\u001b[39mdim()\u001b[38;5;132;01m}\u001b[39;00m\u001b[38;5;124m-D tensor\u001b[39m\u001b[38;5;124m\"\u001b[39m)\n\u001b[1;32m    532\u001b[0m         hx \u001b[38;5;241m=\u001b[39m hx\u001b[38;5;241m.\u001b[39munsqueeze(\u001b[38;5;241m1\u001b[39m)\n\u001b[1;32m    533\u001b[0m \u001b[38;5;28;01melse\u001b[39;00m:\n",
      "\u001b[0;31mRuntimeError\u001b[0m: For unbatched 2-D input, hx should also be 2-D but got 3-D tensor"
     ]
    }
   ],
   "source": [
    "embedding_dim = embeddings.shape[1]\n",
    "hidden_dim = 10\n",
    "output_dim = 4\n",
    "layer_dim = 1\n",
    "model = RNNModel(embedding_dim, hidden_dim,layer_dim, output_dim)\n",
    "\n",
    "optimizer = optim.Adam(model.parameters(), lr=0.001)\n",
    "\n",
    "model.to(device)\n",
    "\n",
    "for epoch in range(0, 10):\n",
    "    train(epoch, model, optimizer, verbose=True)\n",
    "    test(model, verbose=True)\n",
    "    "
   ]
  },
  {
   "cell_type": "markdown",
   "metadata": {},
   "source": [
    "## Self-Attention LSTM"
   ]
  },
  {
   "cell_type": "code",
   "execution_count": 112,
   "metadata": {},
   "outputs": [],
   "source": [
    "\n",
    "class SelfAttention(nn.Module):\n",
    "    def __init__(self, hidden_dim):\n",
    "        super(SelfAttention, self).__init__()\n",
    "        self.hidden_dim = hidden_dim\n",
    "        self.projection = nn.Sequential(\n",
    "            nn.Linear(hidden_dim, 64),\n",
    "            nn.ReLU(True),\n",
    "            nn.Linear(64, 1)\n",
    "        )\n",
    "\n",
    "    def forward(self, encoder_outputs):\n",
    "        # encoder_outputs shape: (batch_size, sequence_length, hidden_dim)\n",
    "        energy = self.projection(encoder_outputs)  # (batch_size, sequence_length, 1)\n",
    "        weights = F.softmax(energy.squeeze(-1), dim=1)  # (batch_size, sequence_length)\n",
    "        outputs = (encoder_outputs * weights.unsqueeze(-1)).sum(dim=1)  # (batch_size, hidden_dim)\n",
    "        return outputs, weights\n",
    "\n",
    "class LSTMWithAttention(nn.Module):\n",
    "    def __init__(self, input_dim, hidden_dim, output_dim):\n",
    "        super(LSTMWithAttention, self).__init__()\n",
    "        self.hidden_dim = hidden_dim\n",
    "        self.lstm = nn.LSTM(input_dim, hidden_dim, batch_first=True)\n",
    "        self.attention = SelfAttention(hidden_dim)\n",
    "        self.fc = nn.Linear(hidden_dim, output_dim)\n",
    "\n",
    "    def forward(self, x):\n",
    "        lstm_out, _ = self.lstm(x)\n",
    "        attn_out, attn_weights = self.attention(lstm_out)\n",
    "        out = self.fc(attn_out)\n",
    "        return out, attn_weights\n"
   ]
  },
  {
   "cell_type": "code",
   "execution_count": 113,
   "metadata": {},
   "outputs": [
    {
     "ename": "IndexError",
     "evalue": "Dimension out of range (expected to be in range of [-1, 0], but got 1)",
     "output_type": "error",
     "traceback": [
      "\u001b[0;31m---------------------------------------------------------------------------\u001b[0m",
      "\u001b[0;31mIndexError\u001b[0m                                Traceback (most recent call last)",
      "Cell \u001b[0;32mIn[113], line 11\u001b[0m\n\u001b[1;32m      8\u001b[0m model\u001b[38;5;241m.\u001b[39mto(device)\n\u001b[1;32m     10\u001b[0m \u001b[38;5;28;01mfor\u001b[39;00m epoch \u001b[38;5;129;01min\u001b[39;00m \u001b[38;5;28mrange\u001b[39m(\u001b[38;5;241m0\u001b[39m, \u001b[38;5;241m10\u001b[39m):\n\u001b[0;32m---> 11\u001b[0m     train(epoch, model, optimizer, verbose\u001b[38;5;241m=\u001b[39m\u001b[38;5;28;01mTrue\u001b[39;00m)\n\u001b[1;32m     12\u001b[0m     test(model, verbose\u001b[38;5;241m=\u001b[39m\u001b[38;5;28;01mTrue\u001b[39;00m)\n",
      "Cell \u001b[0;32mIn[88], line 15\u001b[0m, in \u001b[0;36mtrain\u001b[0;34m(epoch, model, optimizer, verbose)\u001b[0m\n\u001b[1;32m     13\u001b[0m optimizer\u001b[38;5;241m.\u001b[39mzero_grad()\n\u001b[1;32m     14\u001b[0m \u001b[38;5;66;03m# forward pass through the model\u001b[39;00m\n\u001b[0;32m---> 15\u001b[0m output \u001b[38;5;241m=\u001b[39m model(data)\n\u001b[1;32m     16\u001b[0m \u001b[38;5;66;03m# forward pass through the cross-entropy loss function\u001b[39;00m\n\u001b[1;32m     17\u001b[0m loss \u001b[38;5;241m=\u001b[39m F\u001b[38;5;241m.\u001b[39mcross_entropy(output, target)\n",
      "File \u001b[0;32m~/anaconda3/lib/python3.11/site-packages/torch/nn/modules/module.py:1511\u001b[0m, in \u001b[0;36mModule._wrapped_call_impl\u001b[0;34m(self, *args, **kwargs)\u001b[0m\n\u001b[1;32m   1509\u001b[0m     \u001b[38;5;28;01mreturn\u001b[39;00m \u001b[38;5;28mself\u001b[39m\u001b[38;5;241m.\u001b[39m_compiled_call_impl(\u001b[38;5;241m*\u001b[39margs, \u001b[38;5;241m*\u001b[39m\u001b[38;5;241m*\u001b[39mkwargs)  \u001b[38;5;66;03m# type: ignore[misc]\u001b[39;00m\n\u001b[1;32m   1510\u001b[0m \u001b[38;5;28;01melse\u001b[39;00m:\n\u001b[0;32m-> 1511\u001b[0m     \u001b[38;5;28;01mreturn\u001b[39;00m \u001b[38;5;28mself\u001b[39m\u001b[38;5;241m.\u001b[39m_call_impl(\u001b[38;5;241m*\u001b[39margs, \u001b[38;5;241m*\u001b[39m\u001b[38;5;241m*\u001b[39mkwargs)\n",
      "File \u001b[0;32m~/anaconda3/lib/python3.11/site-packages/torch/nn/modules/module.py:1520\u001b[0m, in \u001b[0;36mModule._call_impl\u001b[0;34m(self, *args, **kwargs)\u001b[0m\n\u001b[1;32m   1515\u001b[0m \u001b[38;5;66;03m# If we don't have any hooks, we want to skip the rest of the logic in\u001b[39;00m\n\u001b[1;32m   1516\u001b[0m \u001b[38;5;66;03m# this function, and just call forward.\u001b[39;00m\n\u001b[1;32m   1517\u001b[0m \u001b[38;5;28;01mif\u001b[39;00m \u001b[38;5;129;01mnot\u001b[39;00m (\u001b[38;5;28mself\u001b[39m\u001b[38;5;241m.\u001b[39m_backward_hooks \u001b[38;5;129;01mor\u001b[39;00m \u001b[38;5;28mself\u001b[39m\u001b[38;5;241m.\u001b[39m_backward_pre_hooks \u001b[38;5;129;01mor\u001b[39;00m \u001b[38;5;28mself\u001b[39m\u001b[38;5;241m.\u001b[39m_forward_hooks \u001b[38;5;129;01mor\u001b[39;00m \u001b[38;5;28mself\u001b[39m\u001b[38;5;241m.\u001b[39m_forward_pre_hooks\n\u001b[1;32m   1518\u001b[0m         \u001b[38;5;129;01mor\u001b[39;00m _global_backward_pre_hooks \u001b[38;5;129;01mor\u001b[39;00m _global_backward_hooks\n\u001b[1;32m   1519\u001b[0m         \u001b[38;5;129;01mor\u001b[39;00m _global_forward_hooks \u001b[38;5;129;01mor\u001b[39;00m _global_forward_pre_hooks):\n\u001b[0;32m-> 1520\u001b[0m     \u001b[38;5;28;01mreturn\u001b[39;00m forward_call(\u001b[38;5;241m*\u001b[39margs, \u001b[38;5;241m*\u001b[39m\u001b[38;5;241m*\u001b[39mkwargs)\n\u001b[1;32m   1522\u001b[0m \u001b[38;5;28;01mtry\u001b[39;00m:\n\u001b[1;32m   1523\u001b[0m     result \u001b[38;5;241m=\u001b[39m \u001b[38;5;28;01mNone\u001b[39;00m\n",
      "Cell \u001b[0;32mIn[112], line 28\u001b[0m, in \u001b[0;36mLSTMWithAttention.forward\u001b[0;34m(self, x)\u001b[0m\n\u001b[1;32m     26\u001b[0m \u001b[38;5;28;01mdef\u001b[39;00m \u001b[38;5;21mforward\u001b[39m(\u001b[38;5;28mself\u001b[39m, x):\n\u001b[1;32m     27\u001b[0m     lstm_out, _ \u001b[38;5;241m=\u001b[39m \u001b[38;5;28mself\u001b[39m\u001b[38;5;241m.\u001b[39mlstm(x)\n\u001b[0;32m---> 28\u001b[0m     attn_out, attn_weights \u001b[38;5;241m=\u001b[39m \u001b[38;5;28mself\u001b[39m\u001b[38;5;241m.\u001b[39mattention(lstm_out)\n\u001b[1;32m     29\u001b[0m     out \u001b[38;5;241m=\u001b[39m \u001b[38;5;28mself\u001b[39m\u001b[38;5;241m.\u001b[39mfc(attn_out)\n\u001b[1;32m     30\u001b[0m     \u001b[38;5;28;01mreturn\u001b[39;00m out, attn_weights\n",
      "File \u001b[0;32m~/anaconda3/lib/python3.11/site-packages/torch/nn/modules/module.py:1511\u001b[0m, in \u001b[0;36mModule._wrapped_call_impl\u001b[0;34m(self, *args, **kwargs)\u001b[0m\n\u001b[1;32m   1509\u001b[0m     \u001b[38;5;28;01mreturn\u001b[39;00m \u001b[38;5;28mself\u001b[39m\u001b[38;5;241m.\u001b[39m_compiled_call_impl(\u001b[38;5;241m*\u001b[39margs, \u001b[38;5;241m*\u001b[39m\u001b[38;5;241m*\u001b[39mkwargs)  \u001b[38;5;66;03m# type: ignore[misc]\u001b[39;00m\n\u001b[1;32m   1510\u001b[0m \u001b[38;5;28;01melse\u001b[39;00m:\n\u001b[0;32m-> 1511\u001b[0m     \u001b[38;5;28;01mreturn\u001b[39;00m \u001b[38;5;28mself\u001b[39m\u001b[38;5;241m.\u001b[39m_call_impl(\u001b[38;5;241m*\u001b[39margs, \u001b[38;5;241m*\u001b[39m\u001b[38;5;241m*\u001b[39mkwargs)\n",
      "File \u001b[0;32m~/anaconda3/lib/python3.11/site-packages/torch/nn/modules/module.py:1520\u001b[0m, in \u001b[0;36mModule._call_impl\u001b[0;34m(self, *args, **kwargs)\u001b[0m\n\u001b[1;32m   1515\u001b[0m \u001b[38;5;66;03m# If we don't have any hooks, we want to skip the rest of the logic in\u001b[39;00m\n\u001b[1;32m   1516\u001b[0m \u001b[38;5;66;03m# this function, and just call forward.\u001b[39;00m\n\u001b[1;32m   1517\u001b[0m \u001b[38;5;28;01mif\u001b[39;00m \u001b[38;5;129;01mnot\u001b[39;00m (\u001b[38;5;28mself\u001b[39m\u001b[38;5;241m.\u001b[39m_backward_hooks \u001b[38;5;129;01mor\u001b[39;00m \u001b[38;5;28mself\u001b[39m\u001b[38;5;241m.\u001b[39m_backward_pre_hooks \u001b[38;5;129;01mor\u001b[39;00m \u001b[38;5;28mself\u001b[39m\u001b[38;5;241m.\u001b[39m_forward_hooks \u001b[38;5;129;01mor\u001b[39;00m \u001b[38;5;28mself\u001b[39m\u001b[38;5;241m.\u001b[39m_forward_pre_hooks\n\u001b[1;32m   1518\u001b[0m         \u001b[38;5;129;01mor\u001b[39;00m _global_backward_pre_hooks \u001b[38;5;129;01mor\u001b[39;00m _global_backward_hooks\n\u001b[1;32m   1519\u001b[0m         \u001b[38;5;129;01mor\u001b[39;00m _global_forward_hooks \u001b[38;5;129;01mor\u001b[39;00m _global_forward_pre_hooks):\n\u001b[0;32m-> 1520\u001b[0m     \u001b[38;5;28;01mreturn\u001b[39;00m forward_call(\u001b[38;5;241m*\u001b[39margs, \u001b[38;5;241m*\u001b[39m\u001b[38;5;241m*\u001b[39mkwargs)\n\u001b[1;32m   1522\u001b[0m \u001b[38;5;28;01mtry\u001b[39;00m:\n\u001b[1;32m   1523\u001b[0m     result \u001b[38;5;241m=\u001b[39m \u001b[38;5;28;01mNone\u001b[39;00m\n",
      "Cell \u001b[0;32mIn[112], line 14\u001b[0m, in \u001b[0;36mSelfAttention.forward\u001b[0;34m(self, encoder_outputs)\u001b[0m\n\u001b[1;32m     11\u001b[0m \u001b[38;5;28;01mdef\u001b[39;00m \u001b[38;5;21mforward\u001b[39m(\u001b[38;5;28mself\u001b[39m, encoder_outputs):\n\u001b[1;32m     12\u001b[0m     \u001b[38;5;66;03m# encoder_outputs shape: (batch_size, sequence_length, hidden_dim)\u001b[39;00m\n\u001b[1;32m     13\u001b[0m     energy \u001b[38;5;241m=\u001b[39m \u001b[38;5;28mself\u001b[39m\u001b[38;5;241m.\u001b[39mprojection(encoder_outputs)  \u001b[38;5;66;03m# (batch_size, sequence_length, 1)\u001b[39;00m\n\u001b[0;32m---> 14\u001b[0m     weights \u001b[38;5;241m=\u001b[39m F\u001b[38;5;241m.\u001b[39msoftmax(energy\u001b[38;5;241m.\u001b[39msqueeze(\u001b[38;5;241m-\u001b[39m\u001b[38;5;241m1\u001b[39m), dim\u001b[38;5;241m=\u001b[39m\u001b[38;5;241m1\u001b[39m)  \u001b[38;5;66;03m# (batch_size, sequence_length)\u001b[39;00m\n\u001b[1;32m     15\u001b[0m     outputs \u001b[38;5;241m=\u001b[39m (encoder_outputs \u001b[38;5;241m*\u001b[39m weights\u001b[38;5;241m.\u001b[39munsqueeze(\u001b[38;5;241m-\u001b[39m\u001b[38;5;241m1\u001b[39m))\u001b[38;5;241m.\u001b[39msum(dim\u001b[38;5;241m=\u001b[39m\u001b[38;5;241m1\u001b[39m)  \u001b[38;5;66;03m# (batch_size, hidden_dim)\u001b[39;00m\n\u001b[1;32m     16\u001b[0m     \u001b[38;5;28;01mreturn\u001b[39;00m outputs, weights\n",
      "File \u001b[0;32m~/anaconda3/lib/python3.11/site-packages/torch/nn/functional.py:1858\u001b[0m, in \u001b[0;36msoftmax\u001b[0;34m(input, dim, _stacklevel, dtype)\u001b[0m\n\u001b[1;32m   1856\u001b[0m     dim \u001b[38;5;241m=\u001b[39m _get_softmax_dim(\u001b[38;5;124m\"\u001b[39m\u001b[38;5;124msoftmax\u001b[39m\u001b[38;5;124m\"\u001b[39m, \u001b[38;5;28minput\u001b[39m\u001b[38;5;241m.\u001b[39mdim(), _stacklevel)\n\u001b[1;32m   1857\u001b[0m \u001b[38;5;28;01mif\u001b[39;00m dtype \u001b[38;5;129;01mis\u001b[39;00m \u001b[38;5;28;01mNone\u001b[39;00m:\n\u001b[0;32m-> 1858\u001b[0m     ret \u001b[38;5;241m=\u001b[39m \u001b[38;5;28minput\u001b[39m\u001b[38;5;241m.\u001b[39msoftmax(dim)\n\u001b[1;32m   1859\u001b[0m \u001b[38;5;28;01melse\u001b[39;00m:\n\u001b[1;32m   1860\u001b[0m     ret \u001b[38;5;241m=\u001b[39m \u001b[38;5;28minput\u001b[39m\u001b[38;5;241m.\u001b[39msoftmax(dim, dtype\u001b[38;5;241m=\u001b[39mdtype)\n",
      "\u001b[0;31mIndexError\u001b[0m: Dimension out of range (expected to be in range of [-1, 0], but got 1)"
     ]
    }
   ],
   "source": [
    "input_dim= embeddings.shape[1]\n",
    "hidden_dim = 50\n",
    "output_dim = 4\n",
    "model = LSTMWithAttention(input_dim, hidden_dim, output_dim)\n",
    "\n",
    "optimizer = optim.Adam(model.parameters(), lr=0.0001)\n",
    "\n",
    "model.to(device)\n",
    "\n",
    "for epoch in range(0, 10):\n",
    "    train(epoch, model, optimizer, verbose=True)\n",
    "    test(model, verbose=True)\n",
    "    "
   ]
  },
  {
   "cell_type": "markdown",
   "metadata": {},
   "source": [
    "## Dimensionality Reduction with UMAP"
   ]
  },
  {
   "cell_type": "code",
   "execution_count": 29,
   "metadata": {},
   "outputs": [
    {
     "data": {
      "text/plain": [
       "<Axes: >"
      ]
     },
     "execution_count": 29,
     "metadata": {},
     "output_type": "execute_result"
    },
    {
     "data": {
      "image/png": "[encoded data removed]",
      "text/plain": [
       "<Figure size 800x800 with 1 Axes>"
      ]
     },
     "metadata": {},
     "output_type": "display_data"
    }
   ],
   "source": [
    "# UMAP for dimensionality reduction\n",
    "import umap\n",
    "import umap.plot\n",
    "import matplotlib.pyplot as plt\n",
    "\n",
    "\n",
    "\n",
    "reducer = umap.UMAP(n_neighbors=15, min_dist=0.1, n_components=2, metric='cosine')\n",
    "embedding = reducer.fit_transform(embeddings, salary_bins)\n",
    "\n",
    "umap.plot.points(reducer, labels=salary_ranges, theme='inferno')\n",
    "\n",
    "\n",
    "\n",
    "\n",
    "\n",
    "\n",
    "\n"
   ]
  },
  {
   "cell_type": "code",
   "execution_count": null,
   "metadata": {},
   "outputs": [],
   "source": []
  },
  {
   "cell_type": "code",
   "execution_count": 45,
   "metadata": {},
   "outputs": [
    {
     "name": "stdout",
     "output_type": "stream",
     "text": [
      "Accuracy: 0.8333333333333334\n",
      "F1: 0.821221785126714\n",
      "ROC AUC: 0.927171888564753\n"
     ]
    }
   ],
   "source": [
    "# Logistic regression for classification with the reduced dimensionality\n",
    "from sklearn.linear_model import LogisticRegression\n",
    "from sklearn.metrics import accuracy_score, f1_score, roc_auc_score\n",
    "from sklearn.model_selection import train_test_split\n",
    "\n",
    "X_train, X_test, y_train, y_test = train_test_split(embedding, salary_bins, test_size=0.2)\n",
    "X_train, X_val, y_train, y_val = train_test_split(X_train, y_train, test_size=0.2)\n",
    "\n",
    "logreg = LogisticRegression(max_iter=1000, C=0.01)\n",
    "logreg.fit(X_train, y_train)\n",
    "\n",
    "y_pred = logreg.predict(X_test)\n",
    "y_pred_proba = logreg.predict_proba(X_test)\n",
    "\n",
    "print('Accuracy:', accuracy_score(y_test, y_pred))\n",
    "print('F1:', f1_score(y_test, y_pred, average='weighted'))\n",
    "print('ROC AUC:', roc_auc_score(y_test, y_pred_proba, multi_class='ovr'))\n"
   ]
  },
  {
   "cell_type": "markdown",
   "metadata": {},
   "source": [
    "### MPNetForSequenceClassification"
   ]
  },
  {
   "cell_type": "code",
   "execution_count": 38,
   "metadata": {},
   "outputs": [],
   "source": [
    "from torch.utils.data import Dataset, DataLoader\n",
    "\n",
    "class EmbeddingDataset(Dataset):\n",
    "    def __init__(self, embeddings, labels):\n",
    "        self.embeddings = embeddings\n",
    "        self.labels = labels\n",
    "\n",
    "    def __len__(self):\n",
    "        return len(self.embeddings)\n",
    "\n",
    "    def __getitem__(self, idx):\n",
    "        return self.embeddings[idx], self.labels[idx]"
   ]
  },
  {
   "cell_type": "code",
   "execution_count": 37,
   "metadata": {},
   "outputs": [
    {
     "name": "stderr",
     "output_type": "stream",
     "text": [
      "/Users/krysten/anaconda3/lib/python3.11/site-packages/transformers/utils/generic.py:260: UserWarning: torch.utils._pytree._register_pytree_node is deprecated. Please use torch.utils._pytree.register_pytree_node instead.\n",
      "  torch.utils._pytree._register_pytree_node(\n"
     ]
    }
   ],
   "source": [
    "embedding_tensor = torch.tensor(embedding).float()\n",
    "label_tensor = torch.tensor(salary_bins).long()\n",
    "\n",
    "dataset = EmbeddingDataset(embedding_tensor, label_tensor)\n",
    "\n",
    "batch_size = 32\n",
    "dataloader = DataLoader(dataset, batch_size=batch_size, shuffle=True)\n",
    "\n",
    "\n",
    "\n",
    "\n",
    "\n",
    "\n",
    "\n"
   ]
  },
  {
   "cell_type": "code",
   "execution_count": null,
   "metadata": {},
   "outputs": [],
   "source": []
  }
 ],
 "metadata": {
  "kernelspec": {
   "display_name": "base",
   "language": "python",
   "name": "python3"
  },
  "language_info": {
   "codemirror_mode": {
    "name": "ipython",
    "version": 3
   },
   "file_extension": ".py",
   "mimetype": "text/x-python",
   "name": "python",
   "nbconvert_exporter": "python",
   "pygments_lexer": "ipython3",
   "version": "3.11.5"
  }
 },
 "nbformat": 4,
 "nbformat_minor": 2
}
